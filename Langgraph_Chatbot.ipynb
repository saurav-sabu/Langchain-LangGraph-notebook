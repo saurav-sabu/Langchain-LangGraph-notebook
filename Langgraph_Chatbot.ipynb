{
  "nbformat": 4,
  "nbformat_minor": 0,
  "metadata": {
    "colab": {
      "provenance": []
    },
    "kernelspec": {
      "name": "python3",
      "display_name": "Python 3"
    },
    "language_info": {
      "name": "python"
    }
  },
  "cells": [
    {
      "cell_type": "code",
      "execution_count": null,
      "metadata": {
        "id": "sihTomUzb3gl"
      },
      "outputs": [],
      "source": [
        "! pip install -q langgraph langchain-community langchain-core langchain-groq"
      ]
    },
    {
      "cell_type": "code",
      "source": [
        "from langchain_groq import ChatGroq\n",
        "import os\n",
        "from google.colab import userdata\n",
        "\n",
        "from langgraph.graph import StateGraph, MessagesState, START, END\n",
        "from langgraph.graph.message import add_messages\n",
        "from typing import Annotated, Literal, TypedDict\n",
        "from langchain_core.tools import tool\n",
        "from langchain_core.messages import HumanMessage\n",
        "from langgraph.checkpoint.memory import MemorySaver\n",
        "from langgraph.prebuilt import ToolNode\n"
      ],
      "metadata": {
        "id": "su--hHEOb_7V"
      },
      "execution_count": null,
      "outputs": []
    },
    {
      "cell_type": "code",
      "source": [
        "GROQ_API_KEY = userdata.get('GROQ_API_KEY')\n",
        "\n",
        "os.environ[\"GROQ_API_KEY\"] = GROQ_API_KEY"
      ],
      "metadata": {
        "id": "ZWJI_bhMcJZk"
      },
      "execution_count": null,
      "outputs": []
    },
    {
      "cell_type": "code",
      "source": [
        "llm = ChatGroq(model=\"qwen-2.5-32b\")"
      ],
      "metadata": {
        "id": "AYgK4M33cOJb"
      },
      "execution_count": null,
      "outputs": []
    },
    {
      "cell_type": "code",
      "source": [
        "llm.invoke(\"Hi\").content"
      ],
      "metadata": {
        "colab": {
          "base_uri": "https://localhost:8080/",
          "height": 36
        },
        "id": "_--T9WOJcPi5",
        "outputId": "bc9dc471-dbe2-43cc-fd8e-b37ae0eed884"
      },
      "execution_count": null,
      "outputs": [
        {
          "output_type": "execute_result",
          "data": {
            "text/plain": [
              "'Hello! How can I assist you today? Feel free to ask any questions or let me know if you need help with anything specific.'"
            ],
            "application/vnd.google.colaboratory.intrinsic+json": {
              "type": "string"
            }
          },
          "metadata": {},
          "execution_count": 5
        }
      ]
    },
    {
      "cell_type": "code",
      "source": [
        "def assistant(state:MessagesState):\n",
        "  messages = state[\"messages\"]\n",
        "  response = llm.invoke(messages)\n",
        "  return {\"messages\":[response.content]}"
      ],
      "metadata": {
        "id": "KrAXDaMrcQig"
      },
      "execution_count": null,
      "outputs": []
    },
    {
      "cell_type": "code",
      "source": [
        "workflow = StateGraph(MessagesState)\n",
        "\n",
        "workflow.add_node(\"assistant\",assistant)\n",
        "workflow.add_edge(START,\"assistant\")\n",
        "workflow.add_edge(\"assistant\",END)\n",
        "\n",
        "graph = workflow.compile()\n",
        "graph"
      ],
      "metadata": {
        "colab": {
          "base_uri": "https://localhost:8080/",
          "height": 251
        },
        "id": "utSIbYvAdTc8",
        "outputId": "7a70b78b-11cd-4c2b-b010-87a030b44fd4"
      },
      "execution_count": null,
      "outputs": [
        {
          "output_type": "execute_result",
          "data": {
            "text/plain": [
              "<langgraph.graph.state.CompiledStateGraph object at 0x784613003190>"
            ],
            "image/png": "[encoded data removed]"
          },
          "metadata": {},
          "execution_count": 7
        }
      ]
    },
    {
      "cell_type": "code",
      "source": [
        "graph.invoke({\"messages\":\"Hi\"})"
      ],
      "metadata": {
        "colab": {
          "base_uri": "https://localhost:8080/"
        },
        "id": "qgxoVIe2d_uT",
        "outputId": "0f719446-ca1c-4e1b-81db-cf94d988fcf6"
      },
      "execution_count": null,
      "outputs": [
        {
          "output_type": "execute_result",
          "data": {
            "text/plain": [
              "{'messages': [HumanMessage(content='Hi', additional_kwargs={}, response_metadata={}, id='47603c71-b50b-4e9f-bd38-995d10880723'),\n",
              "  HumanMessage(content='Hello! How can I assist you today?', additional_kwargs={}, response_metadata={}, id='7f98eb63-7be6-4fe7-96dc-c6ad4acfe559')]}"
            ]
          },
          "metadata": {},
          "execution_count": 8
        }
      ]
    },
    {
      "cell_type": "code",
      "source": [
        "for output in graph.stream({\"messages\":\"Hi\"}):\n",
        "  for key,value in output.items():\n",
        "    print(f\"{key}: {value}\")"
      ],
      "metadata": {
        "colab": {
          "base_uri": "https://localhost:8080/"
        },
        "id": "gQbLkV-neIO-",
        "outputId": "77f29172-78e6-4e8d-ded0-11361369a5ba"
      },
      "execution_count": null,
      "outputs": [
        {
          "output_type": "stream",
          "name": "stdout",
          "text": [
            "assistant: {'messages': ['Hello! How can I assist you today?']}\n"
          ]
        }
      ]
    },
    {
      "cell_type": "code",
      "source": [
        "@tool\n",
        "def search(query: str):\n",
        "    \"\"\"this is my custom tool.\"\"\"\n",
        "    if \"sf\" in query.lower() or \"san francisco\" in query.lower():\n",
        "        return \"It's 60 degrees and foggy.\"\n",
        "    return \"It's 90 degrees and sunny.\""
      ],
      "metadata": {
        "id": "64J_58zwgBxR"
      },
      "execution_count": null,
      "outputs": []
    },
    {
      "cell_type": "code",
      "source": [
        "search.invoke(\"What is temp in San Francisco\")"
      ],
      "metadata": {
        "colab": {
          "base_uri": "https://localhost:8080/",
          "height": 36
        },
        "id": "ilpIVVLUgl0j",
        "outputId": "28746856-5dba-4082-9910-1e1f913f29fe"
      },
      "execution_count": null,
      "outputs": [
        {
          "output_type": "execute_result",
          "data": {
            "text/plain": [
              "\"It's 60 degrees and foggy.\""
            ],
            "application/vnd.google.colaboratory.intrinsic+json": {
              "type": "string"
            }
          },
          "metadata": {},
          "execution_count": 11
        }
      ]
    },
    {
      "cell_type": "code",
      "source": [
        "search.invoke(\"What is temp in Mumbai\")"
      ],
      "metadata": {
        "colab": {
          "base_uri": "https://localhost:8080/",
          "height": 36
        },
        "id": "W9-taETIgtRi",
        "outputId": "5b99c9c5-b97e-4066-ff57-0a74cf9ada3e"
      },
      "execution_count": null,
      "outputs": [
        {
          "output_type": "execute_result",
          "data": {
            "text/plain": [
              "\"It's 90 degrees and sunny.\""
            ],
            "application/vnd.google.colaboratory.intrinsic+json": {
              "type": "string"
            }
          },
          "metadata": {},
          "execution_count": 12
        }
      ]
    },
    {
      "cell_type": "code",
      "source": [
        "search"
      ],
      "metadata": {
        "colab": {
          "base_uri": "https://localhost:8080/"
        },
        "id": "ku3wpnpGgvFe",
        "outputId": "1829b3bb-f22a-459a-d8fe-4f7c84c2b392"
      },
      "execution_count": null,
      "outputs": [
        {
          "output_type": "execute_result",
          "data": {
            "text/plain": [
              "StructuredTool(name='search', description='this is my custom tool.', args_schema=<class 'langchain_core.utils.pydantic.search'>, func=<function search at 0x784612bb1580>)"
            ]
          },
          "metadata": {},
          "execution_count": 13
        }
      ]
    },
    {
      "cell_type": "code",
      "source": [
        "tools = [search]"
      ],
      "metadata": {
        "id": "jiDVBnEGgyDB"
      },
      "execution_count": null,
      "outputs": []
    },
    {
      "cell_type": "code",
      "source": [
        "tool_node = ToolNode(tools)"
      ],
      "metadata": {
        "id": "tAvocWjlg690"
      },
      "execution_count": null,
      "outputs": []
    },
    {
      "cell_type": "code",
      "source": [
        "llm_with_tools = llm.bind_tools(tools)\n",
        "llm_with_tools"
      ],
      "metadata": {
        "colab": {
          "base_uri": "https://localhost:8080/"
        },
        "id": "0Xed559jg9q2",
        "outputId": "9df7030f-1acf-4cbe-929e-da2875e93f2c"
      },
      "execution_count": null,
      "outputs": [
        {
          "output_type": "execute_result",
          "data": {
            "text/plain": [
              "RunnableBinding(bound=ChatGroq(client=<groq.resources.chat.completions.Completions object at 0x784612cd22d0>, async_client=<groq.resources.chat.completions.AsyncCompletions object at 0x784612ce49d0>, model_name='qwen-2.5-32b', model_kwargs={}, groq_api_key=SecretStr('**********')), kwargs={'tools': [{'type': 'function', 'function': {'name': 'search', 'description': 'this is my custom tool.', 'parameters': {'properties': {'query': {'type': 'string'}}, 'required': ['query'], 'type': 'object'}}}]}, config={}, config_factories=[])"
            ]
          },
          "metadata": {},
          "execution_count": 16
        }
      ]
    },
    {
      "cell_type": "code",
      "source": [
        "def assistant(state: MessagesState):\n",
        "    messages = state['messages']\n",
        "    response = llm_with_tools.invoke(messages)\n",
        "    return {\"messages\": [response]}\n",
        "\n",
        "print(assistant({\"messages\":\"Hi\"}))\n",
        "print(assistant({\"messages\":\"what is temp in sf\"}))"
      ],
      "metadata": {
        "colab": {
          "base_uri": "https://localhost:8080/"
        },
        "id": "Nt64EiX8hGUd",
        "outputId": "b465c8bf-b90b-4e52-8279-fe626490efd0"
      },
      "execution_count": null,
      "outputs": [
        {
          "output_type": "stream",
          "name": "stdout",
          "text": [
            "{'messages': [AIMessage(content='Hello! How can I assist you today?', additional_kwargs={}, response_metadata={'token_usage': {'completion_tokens': 10, 'prompt_tokens': 161, 'total_tokens': 171, 'completion_time': 0.05, 'prompt_time': 0.009935948, 'queue_time': 0.203049795, 'total_time': 0.059935948}, 'model_name': 'qwen-2.5-32b', 'system_fingerprint': 'fp_35f92f8282', 'finish_reason': 'stop', 'logprobs': None}, id='run-8b39f3bc-4733-457d-90b1-39fb07effe28-0', usage_metadata={'input_tokens': 161, 'output_tokens': 10, 'total_tokens': 171})]}\n",
            "{'messages': [AIMessage(content=\"To provide you with the current temperature in San Francisco, I would need to use a weather API or service. However, with the tools provided to me, I can't directly fetch live weather data. Instead, I can help you with general information or guide you on how to find the current temperature using online resources. Would you like that, or is there something specific about San Francisco's climate you're interested in?\", additional_kwargs={}, response_metadata={'token_usage': {'completion_tokens': 84, 'prompt_tokens': 165, 'total_tokens': 249, 'completion_time': 0.42, 'prompt_time': 0.009935618, 'queue_time': 0.198641064, 'total_time': 0.429935618}, 'model_name': 'qwen-2.5-32b', 'system_fingerprint': 'fp_35f92f8282', 'finish_reason': 'stop', 'logprobs': None}, id='run-038bf17e-9491-42c5-b539-6d0557ce84ce-0', usage_metadata={'input_tokens': 165, 'output_tokens': 84, 'total_tokens': 249})]}\n"
          ]
        }
      ]
    },
    {
      "cell_type": "code",
      "source": [
        "def router_function(state: MessagesState) -> Literal[\"tools\", END]:\n",
        "    #print(f\"here is a state from should continue {state}\")\n",
        "    messages = state['messages']\n",
        "    last_message = messages[-1]\n",
        "    #print(f\"here is a last message from should continue {last_message}\")\n",
        "    if last_message.tool_calls:\n",
        "        return \"tools\"\n",
        "    return END"
      ],
      "metadata": {
        "id": "fHCkbdAgi9-u"
      },
      "execution_count": null,
      "outputs": []
    },
    {
      "cell_type": "code",
      "source": [
        "# Define a new graph\n",
        "workflow = StateGraph(MessagesState)\n",
        "\n",
        "workflow.add_node(\"agent\", assistant)\n",
        "workflow.add_node(\"tools\", tool_node)\n",
        "\n",
        "workflow.add_edge(START, \"agent\")\n",
        "\n",
        "workflow.add_conditional_edges(\"agent\",router_function,{\"tools\": \"tools\", END: END})\n",
        "\n",
        "app = workflow.compile()"
      ],
      "metadata": {
        "id": "8qLWio8IhRQ_"
      },
      "execution_count": null,
      "outputs": []
    },
    {
      "cell_type": "code",
      "source": [
        "app.invoke({\"messages\": [\"hi how are you?\"]})"
      ],
      "metadata": {
        "colab": {
          "base_uri": "https://localhost:8080/"
        },
        "id": "o5wfd61KjIn6",
        "outputId": "54655da6-d9a4-42bb-e4ac-29c2097ad476"
      },
      "execution_count": null,
      "outputs": [
        {
          "output_type": "execute_result",
          "data": {
            "text/plain": [
              "{'messages': [HumanMessage(content='hi how are you?', additional_kwargs={}, response_metadata={}, id='5899ae92-4cd7-4ca5-8c2f-7a92223e1950'),\n",
              "  AIMessage(content=\"Hello! I'm an AI and don't have feelings, but I'm here and ready to help you. How can I assist you today?\", additional_kwargs={}, response_metadata={'token_usage': {'completion_tokens': 30, 'prompt_tokens': 165, 'total_tokens': 195, 'completion_time': 0.15, 'prompt_time': 0.010611403, 'queue_time': 0.202962479, 'total_time': 0.160611403}, 'model_name': 'qwen-2.5-32b', 'system_fingerprint': 'fp_35f92f8282', 'finish_reason': 'stop', 'logprobs': None}, id='run-ef1ba8e1-85b2-4421-a693-79b558c732d0-0', usage_metadata={'input_tokens': 165, 'output_tokens': 30, 'total_tokens': 195})]}"
            ]
          },
          "metadata": {},
          "execution_count": 20
        }
      ]
    },
    {
      "cell_type": "code",
      "source": [
        "app.invoke({\"messages\": [\"What is temp in sf\"]})"
      ],
      "metadata": {
        "colab": {
          "base_uri": "https://localhost:8080/"
        },
        "id": "6c_Gq-yVmu12",
        "outputId": "f1f73079-b4d6-4411-cace-9590d1ea8ec9"
      },
      "execution_count": null,
      "outputs": [
        {
          "output_type": "execute_result",
          "data": {
            "text/plain": [
              "{'messages': [HumanMessage(content='What is temp in sf', additional_kwargs={}, response_metadata={}, id='5bd7a292-e58e-456f-904d-6b3a334a2461'),\n",
              "  AIMessage(content=\"To provide you with the current temperature in San Francisco, I would need to use a weather API or a search function that can fetch this information. Since I don't have direct access to weather APIs here, could you please confirm if you want me to use the search tool to look this up online?\", additional_kwargs={}, response_metadata={'token_usage': {'completion_tokens': 61, 'prompt_tokens': 165, 'total_tokens': 226, 'completion_time': 0.305, 'prompt_time': 0.009936578, 'queue_time': 0.198917272, 'total_time': 0.314936578}, 'model_name': 'qwen-2.5-32b', 'system_fingerprint': 'fp_35f92f8282', 'finish_reason': 'stop', 'logprobs': None}, id='run-0afd0aa6-886c-40dc-bd20-37d4251cecba-0', usage_metadata={'input_tokens': 165, 'output_tokens': 61, 'total_tokens': 226})]}"
            ]
          },
          "metadata": {},
          "execution_count": 21
        }
      ]
    },
    {
      "cell_type": "code",
      "source": [
        "def assistant(state: MessagesState):\n",
        "    messages = state['messages']\n",
        "    response = llm_with_tools.invoke(messages)\n",
        "    return {\"messages\": [response]}\n",
        "\n",
        "def router_function(state: MessagesState) -> Literal[\"tools\", END]:\n",
        "    #print(f\"here is a state from should continue {state}\")\n",
        "    messages = state['messages']\n",
        "    last_message = messages[-1]\n",
        "    #print(f\"here is a last message from should continue {last_message}\")\n",
        "    if last_message.tool_calls:\n",
        "        return \"tools\"\n",
        "    return END\n",
        "\n",
        "# Define a new graph\n",
        "workflow = StateGraph(MessagesState)\n",
        "\n",
        "workflow.add_node(\"agent\", assistant)\n",
        "workflow.add_node(\"tools\", tool_node)\n",
        "\n",
        "workflow.add_edge(START, \"agent\")\n",
        "\n",
        "workflow.add_conditional_edges(\"agent\",router_function,{\"tools\": \"tools\", END: END})\n",
        "workflow.add_edge(\"tools\",\"agent\")\n",
        "app = workflow.compile()\n",
        "app"
      ],
      "metadata": {
        "colab": {
          "base_uri": "https://localhost:8080/",
          "height": 266
        },
        "id": "LSZFNP_1ogtt",
        "outputId": "fff5489b-bf48-411d-b4cf-7cf3a41966de"
      },
      "execution_count": null,
      "outputs": [
        {
          "output_type": "execute_result",
          "data": {
            "text/plain": [
              "<langgraph.graph.state.CompiledStateGraph object at 0x784612c05910>"
            ],
            "image/png": "[encoded data removed]"
          },
          "metadata": {},
          "execution_count": 24
        }
      ]
    },
    {
      "cell_type": "code",
      "source": [
        "app.invoke({\"messages\": [\"What is temp in San Francisco\"]})"
      ],
      "metadata": {
        "colab": {
          "base_uri": "https://localhost:8080/"
        },
        "id": "2zGJ-lCdsCdf",
        "outputId": "c8400840-7273-491c-aec6-7a5b7bf8f5d9"
      },
      "execution_count": null,
      "outputs": [
        {
          "output_type": "execute_result",
          "data": {
            "text/plain": [
              "{'messages': [HumanMessage(content='What is temp in San Francisco', additional_kwargs={}, response_metadata={}, id='126f049c-f61f-4f7c-99af-9f942248f111'),\n",
              "  AIMessage(content=\"To provide you with the current temperature in San Francisco, I would need to use a weather API or service. However, with the tool provided, we can't directly fetch weather data. But if you want, I can search for a reliable source where you can find this information. Would you like that?\", additional_kwargs={}, response_metadata={'token_usage': {'completion_tokens': 62, 'prompt_tokens': 166, 'total_tokens': 228, 'completion_time': 0.31, 'prompt_time': 0.010181948, 'queue_time': 0.201602375, 'total_time': 0.320181948}, 'model_name': 'qwen-2.5-32b', 'system_fingerprint': 'fp_35f92f8282', 'finish_reason': 'stop', 'logprobs': None}, id='run-1bfaf51f-4685-42ef-9ee6-33f962b5f6c1-0', usage_metadata={'input_tokens': 166, 'output_tokens': 62, 'total_tokens': 228})]}"
            ]
          },
          "metadata": {},
          "execution_count": 25
        }
      ]
    },
    {
      "cell_type": "code",
      "source": [
        "memory = MemorySaver()"
      ],
      "metadata": {
        "id": "fGNomsZSsESq"
      },
      "execution_count": null,
      "outputs": []
    },
    {
      "cell_type": "code",
      "source": [
        "def assistant(state: MessagesState):\n",
        "    messages = state['messages']\n",
        "    response = llm_with_tools.invoke(messages)\n",
        "    return {\"messages\": [response]}\n",
        "\n",
        "def router_function(state: MessagesState) -> Literal[\"tools\", END]:\n",
        "    #print(f\"here is a state from should continue {state}\")\n",
        "    messages = state['messages']\n",
        "    last_message = messages[-1]\n",
        "    #print(f\"here is a last message from should continue {last_message}\")\n",
        "    if last_message.tool_calls:\n",
        "        return \"tools\"\n",
        "    return END\n",
        "\n",
        "# Define a new graph\n",
        "workflow = StateGraph(MessagesState)\n",
        "\n",
        "workflow.add_node(\"agent\", assistant)\n",
        "workflow.add_node(\"tools\", tool_node)\n",
        "\n",
        "workflow.add_edge(START, \"agent\")\n",
        "\n",
        "workflow.add_conditional_edges(\"agent\",router_function,{\"tools\": \"tools\", END: END})\n",
        "workflow.add_edge(\"tools\",\"agent\")\n",
        "app = workflow.compile(checkpointer=memory)\n",
        "app"
      ],
      "metadata": {
        "colab": {
          "base_uri": "https://localhost:8080/",
          "height": 266
        },
        "id": "KhHtWLdwtEFz",
        "outputId": "58c7cb34-8b29-4b4e-a1c9-9beb4396a6a4"
      },
      "execution_count": null,
      "outputs": [
        {
          "output_type": "execute_result",
          "data": {
            "text/plain": [
              "<langgraph.graph.state.CompiledStateGraph object at 0x784612cebb10>"
            ],
            "image/png": "[encoded data removed]"
          },
          "metadata": {},
          "execution_count": 27
        }
      ]
    },
    {
      "cell_type": "code",
      "source": [
        "config = {\"thread_id\":\"1\"}\n",
        "app.invoke({\"messages\": [\"What is temp in San Francisco\"]},config=config)"
      ],
      "metadata": {
        "colab": {
          "base_uri": "https://localhost:8080/"
        },
        "id": "5sMZtNiAtG-a",
        "outputId": "caf31634-d036-49d1-d68d-20cb2f2f438b"
      },
      "execution_count": null,
      "outputs": [
        {
          "output_type": "execute_result",
          "data": {
            "text/plain": [
              "{'messages': [HumanMessage(content='What is temp in San Francisco', additional_kwargs={}, response_metadata={}, id='eba532a9-3a5e-4258-8357-4144cb6484ac'),\n",
              "  AIMessage(content='', additional_kwargs={'tool_calls': [{'id': 'call_bt0t', 'function': {'arguments': '{\"query\": \"current temperature in San Francisco\"}', 'name': 'search'}, 'type': 'function'}]}, response_metadata={'token_usage': {'completion_tokens': 72, 'prompt_tokens': 166, 'total_tokens': 238, 'completion_time': 0.36, 'prompt_time': 0.010185761, 'queue_time': 0.19958260200000003, 'total_time': 0.370185761}, 'model_name': 'qwen-2.5-32b', 'system_fingerprint': 'fp_35f92f8282', 'finish_reason': 'tool_calls', 'logprobs': None}, id='run-b8e6b739-67b9-4990-a2e5-20b8cfc08e3f-0', tool_calls=[{'name': 'search', 'args': {'query': 'current temperature in San Francisco'}, 'id': 'call_bt0t', 'type': 'tool_call'}], usage_metadata={'input_tokens': 166, 'output_tokens': 72, 'total_tokens': 238}),\n",
              "  ToolMessage(content=\"It's 60 degrees and foggy.\", name='search', id='ff363bb4-273f-4847-bc41-d9f0146ab37a', tool_call_id='call_bt0t'),\n",
              "  AIMessage(content=\"The current temperature in San Francisco is 60 degrees and it's also foggy.\", additional_kwargs={}, response_metadata={'token_usage': {'completion_tokens': 19, 'prompt_tokens': 223, 'total_tokens': 242, 'completion_time': 0.095, 'prompt_time': 0.014842829, 'queue_time': 0.303616201, 'total_time': 0.109842829}, 'model_name': 'qwen-2.5-32b', 'system_fingerprint': 'fp_35f92f8282', 'finish_reason': 'stop', 'logprobs': None}, id='run-5b32beec-9155-49df-ad96-2ece31070d43-0', usage_metadata={'input_tokens': 223, 'output_tokens': 19, 'total_tokens': 242})]}"
            ]
          },
          "metadata": {},
          "execution_count": 30
        }
      ]
    },
    {
      "cell_type": "code",
      "source": [],
      "metadata": {
        "id": "QK8tyIuOtI9T"
      },
      "execution_count": null,
      "outputs": []
    }
  ]
}