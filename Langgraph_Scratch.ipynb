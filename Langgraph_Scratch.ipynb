{
  "nbformat": 4,
  "nbformat_minor": 0,
  "metadata": {
    "colab": {
      "provenance": []
    },
    "kernelspec": {
      "name": "python3",
      "display_name": "Python 3"
    },
    "language_info": {
      "name": "python"
    }
  },
  "cells": [
    {
      "cell_type": "code",
      "execution_count": 1,
      "metadata": {
        "id": "mZsSTvTEWy-K"
      },
      "outputs": [],
      "source": [
        "! pip install -q langgraph langchain-community langchain-core langchain-google-genai faiss-cpu pypdf"
      ]
    },
    {
      "cell_type": "markdown",
      "source": [
        "# WorkFlow 1"
      ],
      "metadata": {
        "id": "1T7ko9_FZNQe"
      }
    },
    {
      "cell_type": "code",
      "source": [
        "from langgraph.graph import Graph"
      ],
      "metadata": {
        "id": "Cv4VUWETYcl5"
      },
      "execution_count": 2,
      "outputs": []
    },
    {
      "cell_type": "code",
      "source": [
        "def function1(input1):\n",
        "  return input1 + \" from first function\"\n",
        "\n",
        "def function2(input2):\n",
        "  return input2 + \" from second function\""
      ],
      "metadata": {
        "id": "4-S17r3WX0sH"
      },
      "execution_count": 3,
      "outputs": []
    },
    {
      "cell_type": "code",
      "source": [
        "workflow1 = Graph()\n",
        "\n",
        "workflow1.add_node(\"function1\", function1)\n",
        "workflow1.add_node(\"function2\", function2)\n",
        "\n",
        "workflow1.set_entry_point(\"function1\")\n",
        "workflow1.add_edge(\"function1\", \"function2\")\n",
        "workflow1.set_finish_point(\"function2\")\n",
        "\n",
        "graph = workflow1.compile()\n",
        "graph"
      ],
      "metadata": {
        "colab": {
          "base_uri": "https://localhost:8080/",
          "height": 350
        },
        "id": "wcW4K_uaYKBy",
        "outputId": "bd2fbaf5-a4df-48fd-8199-33e92b810d9f"
      },
      "execution_count": 4,
      "outputs": [
        {
          "output_type": "execute_result",
          "data": {
            "text/plain": [
              "<langgraph.graph.graph.CompiledGraph object at 0x7cbad8257690>"
            ],
            "image/png": "[encoded data removed]"
          },
          "metadata": {},
          "execution_count": 4
        }
      ]
    },
    {
      "cell_type": "code",
      "source": [
        "graph.invoke(\"Hi my name is saurav\")"
      ],
      "metadata": {
        "colab": {
          "base_uri": "https://localhost:8080/",
          "height": 36
        },
        "id": "OvJD2mGUZPvt",
        "outputId": "5e554ce1-fd43-49cf-a0d2-29b9bfe8feb9"
      },
      "execution_count": 5,
      "outputs": [
        {
          "output_type": "execute_result",
          "data": {
            "text/plain": [
              "'Hi my name is saurav from first function from second function'"
            ],
            "application/vnd.google.colaboratory.intrinsic+json": {
              "type": "string"
            }
          },
          "metadata": {},
          "execution_count": 5
        }
      ]
    },
    {
      "cell_type": "code",
      "source": [
        "for output in graph.stream(\"Hi my name is saurav\"):\n",
        "  for key,value in output.items():\n",
        "    print(f\"{key}\")\n",
        "    print(\"---------\")\n",
        "    print(f\"{value}\")\n",
        "    print(\"\\n\")"
      ],
      "metadata": {
        "colab": {
          "base_uri": "https://localhost:8080/"
        },
        "id": "_nS7qdW1Zk99",
        "outputId": "688b8b17-d19c-4cea-916b-db8e4f7e82fb"
      },
      "execution_count": 6,
      "outputs": [
        {
          "output_type": "stream",
          "name": "stdout",
          "text": [
            "function1\n",
            "---------\n",
            "Hi my name is saurav from first function\n",
            "\n",
            "\n",
            "function2\n",
            "---------\n",
            "Hi my name is saurav from first function from second function\n",
            "\n",
            "\n"
          ]
        }
      ]
    },
    {
      "cell_type": "code",
      "source": [
        "def function1(input1):\n",
        "  return input1 + \" from first function\"\n",
        "\n",
        "def function2(input2):\n",
        "  output = function3(\" this is function 3 in betweem\")\n",
        "  return input2 + output +\" from second function\"\n",
        "\n",
        "def function3(input3):\n",
        "  return input3"
      ],
      "metadata": {
        "id": "UOHJDnogaP2S"
      },
      "execution_count": 7,
      "outputs": []
    },
    {
      "cell_type": "code",
      "source": [
        "workflow1 = Graph()\n",
        "\n",
        "workflow1.add_node(\"function1\", function1)\n",
        "workflow1.add_node(\"function2\", function2)\n",
        "\n",
        "workflow1.set_entry_point(\"function1\")\n",
        "workflow1.add_edge(\"function1\", \"function2\")\n",
        "workflow1.set_finish_point(\"function2\")\n",
        "\n",
        "graph = workflow1.compile()\n",
        "graph"
      ],
      "metadata": {
        "colab": {
          "base_uri": "https://localhost:8080/",
          "height": 350
        },
        "id": "zShAQyV0ZCRw",
        "outputId": "e4ae0f13-c35e-412b-c4ca-085be8644263"
      },
      "execution_count": 8,
      "outputs": [
        {
          "output_type": "execute_result",
          "data": {
            "text/plain": [
              "<langgraph.graph.graph.CompiledGraph object at 0x7cbad828c6d0>"
            ],
            "image/png": "[encoded data removed]"
          },
          "metadata": {},
          "execution_count": 8
        }
      ]
    },
    {
      "cell_type": "code",
      "source": [
        "for output in graph.stream(\"Hi my name is saurav\"):\n",
        "  for key,value in output.items():\n",
        "    print(f\"{key}\")\n",
        "    print(\"---------\")\n",
        "    print(f\"{value}\")\n",
        "    print(\"\\n\")"
      ],
      "metadata": {
        "colab": {
          "base_uri": "https://localhost:8080/"
        },
        "id": "eRukJ9Nka27e",
        "outputId": "33dbf536-0a61-41f3-98ab-cdf5b2269c83"
      },
      "execution_count": 9,
      "outputs": [
        {
          "output_type": "stream",
          "name": "stdout",
          "text": [
            "function1\n",
            "---------\n",
            "Hi my name is saurav from first function\n",
            "\n",
            "\n",
            "function2\n",
            "---------\n",
            "Hi my name is saurav from first function this is function 3 in betweem from second function\n",
            "\n",
            "\n"
          ]
        }
      ]
    },
    {
      "cell_type": "markdown",
      "source": [
        "# Workflow 2"
      ],
      "metadata": {
        "id": "j92U3I5_bWRN"
      }
    },
    {
      "cell_type": "code",
      "source": [
        "from langchain_google_genai import ChatGoogleGenerativeAI, GoogleGenerativeAIEmbeddings\n",
        "import os\n",
        "from google.colab import userdata"
      ],
      "metadata": {
        "id": "fm3AntmJa91y"
      },
      "execution_count": 10,
      "outputs": []
    },
    {
      "cell_type": "code",
      "source": [
        "GOOGLE_API_KEY = userdata.get('GOOGLE_API_KEY')\n",
        "\n",
        "os.environ[\"GOOGLE_API_KEY\"] = GOOGLE_API_KEY"
      ],
      "metadata": {
        "id": "tfxWKE9hbh6x"
      },
      "execution_count": 11,
      "outputs": []
    },
    {
      "cell_type": "code",
      "source": [
        "llm = ChatGoogleGenerativeAI(model=\"gemini-1.5-flash\")\n",
        "embedding = GoogleGenerativeAIEmbeddings(model=\"models/embedding-001\")"
      ],
      "metadata": {
        "id": "9JaTKLM9brU7"
      },
      "execution_count": 12,
      "outputs": []
    },
    {
      "cell_type": "code",
      "source": [
        "llm.invoke(\"Hi\").content"
      ],
      "metadata": {
        "colab": {
          "base_uri": "https://localhost:8080/",
          "height": 36
        },
        "id": "4nzpJcTAb1qF",
        "outputId": "5d858838-3ece-497a-d2c6-113f978e4f57"
      },
      "execution_count": 13,
      "outputs": [
        {
          "output_type": "execute_result",
          "data": {
            "text/plain": [
              "'Hi there! How can I help you today?'"
            ],
            "application/vnd.google.colaboratory.intrinsic+json": {
              "type": "string"
            }
          },
          "metadata": {},
          "execution_count": 13
        }
      ]
    },
    {
      "cell_type": "code",
      "source": [
        "def function1(input1):\n",
        "  llm = ChatGoogleGenerativeAI(model=\"gemini-1.5-flash\")\n",
        "  response = llm.invoke(input1)\n",
        "  return response.content\n",
        "\n",
        "def function2(input2):\n",
        "  return input2.upper()"
      ],
      "metadata": {
        "id": "KlxxfW3Hb4FP"
      },
      "execution_count": 14,
      "outputs": []
    },
    {
      "cell_type": "code",
      "source": [
        "workflow2 = Graph()\n",
        "\n",
        "\n",
        "workflow2.add_node(\"llm\", function1)\n",
        "workflow2.add_node(\"upper_string\", function2)\n",
        "\n",
        "workflow2.set_entry_point(\"llm\")\n",
        "workflow2.add_edge(\"llm\", \"upper_string\")\n",
        "workflow2.set_finish_point(\"upper_string\")\n",
        "\n",
        "graph = workflow2.compile()\n",
        "graph"
      ],
      "metadata": {
        "colab": {
          "base_uri": "https://localhost:8080/",
          "height": 350
        },
        "id": "DBCnocSJcUBG",
        "outputId": "ad6445e1-4acc-45a6-93bf-3f67c702e57f"
      },
      "execution_count": 15,
      "outputs": [
        {
          "output_type": "execute_result",
          "data": {
            "text/plain": [
              "<langgraph.graph.graph.CompiledGraph object at 0x7cbac85cbf10>"
            ],
            "image/png": "[encoded data removed]"
          },
          "metadata": {},
          "execution_count": 15
        }
      ]
    },
    {
      "cell_type": "code",
      "source": [
        "graph.invoke(\"Hi\")"
      ],
      "metadata": {
        "colab": {
          "base_uri": "https://localhost:8080/",
          "height": 36
        },
        "id": "9MIc_edkciZw",
        "outputId": "619ea9be-d20f-43fa-e02c-2a44cee3c485"
      },
      "execution_count": 16,
      "outputs": [
        {
          "output_type": "execute_result",
          "data": {
            "text/plain": [
              "'HI THERE! HOW CAN I HELP YOU TODAY?'"
            ],
            "application/vnd.google.colaboratory.intrinsic+json": {
              "type": "string"
            }
          },
          "metadata": {},
          "execution_count": 16
        }
      ]
    },
    {
      "cell_type": "code",
      "source": [
        "for output in graph.stream(\"Hi\"):\n",
        "  for key,value in output.items():\n",
        "    print(f\"{key}\")\n",
        "    print(\"---------\")\n",
        "    print(f\"{value}\")\n",
        "    print(\"\\n\")"
      ],
      "metadata": {
        "colab": {
          "base_uri": "https://localhost:8080/"
        },
        "id": "ld9EJ2vQcm6v",
        "outputId": "d939b651-eb41-4d52-fe73-96e7a8e59e0b"
      },
      "execution_count": 17,
      "outputs": [
        {
          "output_type": "stream",
          "name": "stdout",
          "text": [
            "llm\n",
            "---------\n",
            "Hi there! How can I help you today?\n",
            "\n",
            "\n",
            "upper_string\n",
            "---------\n",
            "HI THERE! HOW CAN I HELP YOU TODAY?\n",
            "\n",
            "\n"
          ]
        }
      ]
    },
    {
      "cell_type": "markdown",
      "source": [
        "# Workflow 3"
      ],
      "metadata": {
        "id": "CNdd5ldxeBn-"
      }
    },
    {
      "cell_type": "code",
      "source": [
        "def function1(input1):\n",
        "  llm = ChatGoogleGenerativeAI(model=\"gemini-1.5-flash\")\n",
        "  response = llm.invoke(input1)\n",
        "  return response.content\n",
        "\n",
        "def function2(input2):\n",
        "  return input2.upper()\n",
        "\n",
        "def function3(input1):\n",
        "  token = input1.split()\n",
        "  token_number = len(token)\n",
        "  return token_number"
      ],
      "metadata": {
        "id": "VXDz77VYd04-"
      },
      "execution_count": 18,
      "outputs": []
    },
    {
      "cell_type": "code",
      "source": [
        "workflow3 = Graph()\n",
        "\n",
        "workflow3.add_node(\"llm\",function1)\n",
        "workflow3.add_node(\"upper_string\", function2)\n",
        "workflow3.add_node(\"token_number\", function3)\n",
        "\n",
        "workflow3.set_entry_point(\"llm\")\n",
        "workflow3.add_edge(\"llm\", \"upper_string\")\n",
        "workflow3.add_edge(\"upper_string\", \"token_number\")\n",
        "workflow3.set_finish_point(\"token_number\")\n",
        "\n",
        "graph = workflow3.compile()\n",
        "graph"
      ],
      "metadata": {
        "colab": {
          "base_uri": "https://localhost:8080/",
          "height": 449
        },
        "id": "6nHjHl0leXZ8",
        "outputId": "81897f51-00be-4475-f43a-14998800f370"
      },
      "execution_count": 19,
      "outputs": [
        {
          "output_type": "execute_result",
          "data": {
            "text/plain": [
              "<langgraph.graph.graph.CompiledGraph object at 0x7cbac861cc50>"
            ],
            "image/png": "[encoded data removed]"
          },
          "metadata": {},
          "execution_count": 19
        }
      ]
    },
    {
      "cell_type": "code",
      "source": [
        "graph.invoke(\"Hi\")"
      ],
      "metadata": {
        "colab": {
          "base_uri": "https://localhost:8080/"
        },
        "id": "_V8suvmMenhB",
        "outputId": "8391d6fd-513e-4dd2-a906-cad312537c86"
      },
      "execution_count": 20,
      "outputs": [
        {
          "output_type": "execute_result",
          "data": {
            "text/plain": [
              "8"
            ]
          },
          "metadata": {},
          "execution_count": 20
        }
      ]
    },
    {
      "cell_type": "code",
      "source": [
        "for output in graph.stream(\"Hi\"):\n",
        "  for key,value in output.items():\n",
        "    print(f\"{key}\")\n",
        "    print(\"---------\")\n",
        "    print(f\"{value}\")\n",
        "    print(\"\\n\")"
      ],
      "metadata": {
        "colab": {
          "base_uri": "https://localhost:8080/"
        },
        "id": "tERT4nXWesX2",
        "outputId": "2e20a58b-8b2a-411e-97e0-f75f7ca06b33"
      },
      "execution_count": 21,
      "outputs": [
        {
          "output_type": "stream",
          "name": "stdout",
          "text": [
            "llm\n",
            "---------\n",
            "Hi there! How can I help you today?\n",
            "\n",
            "\n",
            "upper_string\n",
            "---------\n",
            "HI THERE! HOW CAN I HELP YOU TODAY?\n",
            "\n",
            "\n",
            "token_number\n",
            "---------\n",
            "8\n",
            "\n",
            "\n"
          ]
        }
      ]
    },
    {
      "cell_type": "markdown",
      "source": [
        "# Workflow 4"
      ],
      "metadata": {
        "id": "W47ytDKRphb_"
      }
    },
    {
      "cell_type": "code",
      "source": [
        "llm = ChatGoogleGenerativeAI(model=\"gemini-1.5-flash\")\n",
        "embedding = GoogleGenerativeAIEmbeddings(model=\"models/embedding-001\")"
      ],
      "metadata": {
        "id": "bCpm-WvPpjNt"
      },
      "execution_count": 22,
      "outputs": []
    },
    {
      "cell_type": "code",
      "source": [
        "llm.invoke(\"hello\").content"
      ],
      "metadata": {
        "colab": {
          "base_uri": "https://localhost:8080/",
          "height": 36
        },
        "id": "zJtupvTPp-Ab",
        "outputId": "1bdd5d29-9ae5-437f-e713-5e81cd7f4f24"
      },
      "execution_count": 23,
      "outputs": [
        {
          "output_type": "execute_result",
          "data": {
            "text/plain": [
              "'Hello there! How can I help you today?'"
            ],
            "application/vnd.google.colaboratory.intrinsic+json": {
              "type": "string"
            }
          },
          "metadata": {},
          "execution_count": 23
        }
      ]
    },
    {
      "cell_type": "code",
      "source": [
        "from langchain_core.output_parsers import StrOutputParser\n",
        "from langchain_core.prompts import ChatPromptTemplate\n",
        "from langchain_core.runnables import RunnablePassthrough\n",
        "from langchain_community.document_loaders import PyPDFLoader\n",
        "from langchain_community.vectorstores import FAISS\n",
        "from langchain_text_splitters import RecursiveCharacterTextSplitter"
      ],
      "metadata": {
        "id": "V41QZ3xMpqaz"
      },
      "execution_count": 24,
      "outputs": []
    },
    {
      "cell_type": "code",
      "source": [
        "loader = PyPDFLoader(\"transformers.pdf\")\n",
        "data = loader.load()"
      ],
      "metadata": {
        "id": "M58XjTrlqbNY"
      },
      "execution_count": 25,
      "outputs": []
    },
    {
      "cell_type": "code",
      "source": [
        "text_splitter = RecursiveCharacterTextSplitter(\n",
        "    chunk_size=1000,\n",
        "    chunk_overlap=200\n",
        ")\n",
        "\n",
        "chunks = text_splitter.split_documents(data)"
      ],
      "metadata": {
        "id": "Xi8RyzbHqvXf"
      },
      "execution_count": 26,
      "outputs": []
    },
    {
      "cell_type": "code",
      "source": [
        "db = FAISS.from_documents(chunks,embedding)\n",
        "db"
      ],
      "metadata": {
        "colab": {
          "base_uri": "https://localhost:8080/"
        },
        "id": "9x97QPqMq4KP",
        "outputId": "52a7fade-9625-4452-ed56-a4cbc277b3f8"
      },
      "execution_count": 27,
      "outputs": [
        {
          "output_type": "execute_result",
          "data": {
            "text/plain": [
              "<langchain_community.vectorstores.faiss.FAISS at 0x7cbac81a4a90>"
            ]
          },
          "metadata": {},
          "execution_count": 27
        }
      ]
    },
    {
      "cell_type": "code",
      "source": [
        "retriever = db.as_retriever()\n",
        "retriever"
      ],
      "metadata": {
        "colab": {
          "base_uri": "https://localhost:8080/"
        },
        "id": "kWH453uXrDc8",
        "outputId": "494af31b-5668-4e45-afd0-a663d3186184"
      },
      "execution_count": 28,
      "outputs": [
        {
          "output_type": "execute_result",
          "data": {
            "text/plain": [
              "VectorStoreRetriever(tags=['FAISS', 'GoogleGenerativeAIEmbeddings'], vectorstore=<langchain_community.vectorstores.faiss.FAISS object at 0x7cbac81a4a90>, search_kwargs={})"
            ]
          },
          "metadata": {},
          "execution_count": 28
        }
      ]
    },
    {
      "cell_type": "code",
      "source": [
        "def function1(AgentState):\n",
        "\n",
        "  message = AgentState[\"messages\"]\n",
        "\n",
        "  question = message[-1]\n",
        "\n",
        "  complete_prompt = f\"\"\"\n",
        "  Your task is to provide only the brief answer based on the user query.\n",
        "  Question: {question}\n",
        "  \"\"\"\n",
        "\n",
        "  response = llm.invoke(complete_prompt)\n",
        "\n",
        "  AgentState[\"messages\"].append(response.content)\n",
        "\n",
        "  return AgentState"
      ],
      "metadata": {
        "id": "Gv5RzfTirHjn"
      },
      "execution_count": 29,
      "outputs": []
    },
    {
      "cell_type": "code",
      "source": [
        "def function2(AgentState):\n",
        "\n",
        "  messages = AgentState[\"messages\"]\n",
        "  question = messages[0]\n",
        "\n",
        "  template = '''\n",
        "  Answer the question based on the following context:\n",
        "  {context}\n",
        "  Question: {question}\n",
        "  '''\n",
        "  prompt = ChatPromptTemplate.from_template(template)\n",
        "\n",
        "  chain = (\n",
        "      {\"context\": retriever , \"question\":RunnablePassthrough()}\n",
        "      | prompt\n",
        "      | llm\n",
        "      | StrOutputParser()\n",
        "  )\n",
        "\n",
        "  result = chain.invoke(question)\n",
        "  return result"
      ],
      "metadata": {
        "id": "heuLH-GusMKD"
      },
      "execution_count": 30,
      "outputs": []
    },
    {
      "cell_type": "code",
      "source": [
        "workflow4 = Graph()\n",
        "workflow4.add_node(\"LLM\",function1)\n",
        "workflow4.add_node(\"RAG\",function2)\n",
        "\n",
        "workflow4.set_entry_point(\"LLM\")\n",
        "workflow4.add_edge(\"LLM\",\"RAG\")\n",
        "workflow4.set_finish_point(\"RAG\")\n",
        "\n",
        "graph = workflow4.compile()\n",
        "graph"
      ],
      "metadata": {
        "colab": {
          "base_uri": "https://localhost:8080/",
          "height": 350
        },
        "id": "7hBp_bb7sn8J",
        "outputId": "f35f77ef-e446-4ac7-9e9e-a942b4163026"
      },
      "execution_count": 31,
      "outputs": [
        {
          "output_type": "execute_result",
          "data": {
            "text/plain": [
              "<langgraph.graph.graph.CompiledGraph object at 0x7cbabcf60e90>"
            ],
            "image/png": "[encoded data removed]"
          },
          "metadata": {},
          "execution_count": 31
        }
      ]
    },
    {
      "cell_type": "code",
      "source": [
        "graph.invoke({\"messages\":[\"What is transformers\"]})"
      ],
      "metadata": {
        "colab": {
          "base_uri": "https://localhost:8080/",
          "height": 90
        },
        "id": "AHA0ADaUs5X6",
        "outputId": "07b133d0-c4a8-4fdf-d9b4-0f836d43c1ed"
      },
      "execution_count": 32,
      "outputs": [
        {
          "output_type": "execute_result",
          "data": {
            "text/plain": [
              "\"Based on the provided text, the Transformer is a new, simple network architecture for sequence transduction.  It's based solely on attention mechanisms, eliminating the need for recurrence and convolutions.  This makes it superior in quality, more parallelizable, and significantly faster to train than models using recurrent or convolutional layers.  The Transformer achieves state-of-the-art results on machine translation tasks (English-to-German and English-to-French) and also performs well on English constituency parsing.\""
            ],
            "application/vnd.google.colaboratory.intrinsic+json": {
              "type": "string"
            }
          },
          "metadata": {},
          "execution_count": 32
        }
      ]
    },
    {
      "cell_type": "markdown",
      "source": [
        "# Workflow 5"
      ],
      "metadata": {
        "id": "C1IGBcFQvonK"
      }
    },
    {
      "cell_type": "code",
      "source": [
        "from langgraph.graph import StateGraph, START, END, add_messages\n",
        "from typing_extensions import TypedDict, Annotated\n",
        "from pydantic import BaseModel, Field"
      ],
      "metadata": {
        "id": "YKxJokdytFV2"
      },
      "execution_count": 33,
      "outputs": []
    },
    {
      "cell_type": "code",
      "source": [
        "class AgentState(TypedDict):\n",
        "  messages: Annotated[list,add_messages]"
      ],
      "metadata": {
        "id": "1Owfq7Ppwb5p"
      },
      "execution_count": 34,
      "outputs": []
    },
    {
      "cell_type": "code",
      "source": [
        "class TopicSelectionParser(BaseModel):\n",
        "  topic: str = Field(description=\"The topic selected by the user\")\n",
        "  Reasoning:str = Field(description=\"Reasoning for selecting the topic\")"
      ],
      "metadata": {
        "id": "wnC85w84wlp_"
      },
      "execution_count": 35,
      "outputs": []
    },
    {
      "cell_type": "code",
      "source": [
        "def function1(state:AgentState):\n",
        "\n",
        "  message = state[\"messages\"]\n",
        "  question = message[-1]\n",
        "  print(question)\n",
        "\n",
        "  template = '''\n",
        "  Your task is to classify given question into one of following categories: [Transformers,Not Related].\n",
        "  Only respond with the category name and nothing else.\n",
        "\n",
        "  Question: {question}\n",
        "  '''\n",
        "\n",
        "  prompt = ChatPromptTemplate.from_template(template)\n",
        "\n",
        "  chain = prompt | llm | StrOutputParser()\n",
        "\n",
        "  response = chain.invoke({\"question\":question})\n",
        "\n",
        "  print(response,\"1\")\n",
        "\n",
        "  return {\"messages\":response}"
      ],
      "metadata": {
        "id": "ropyvoHww3sC"
      },
      "execution_count": 36,
      "outputs": []
    },
    {
      "cell_type": "code",
      "source": [
        "state = {\"messages\":[\"Tell me about transformers\"]}\n",
        "function1(state)"
      ],
      "metadata": {
        "colab": {
          "base_uri": "https://localhost:8080/"
        },
        "id": "pnXkbh7v1Kqz",
        "outputId": "189c43ba-4c0f-406a-9f9e-618516c03cb1"
      },
      "execution_count": 37,
      "outputs": [
        {
          "output_type": "stream",
          "name": "stdout",
          "text": [
            "Tell me about transformers\n",
            "Transformers 1\n"
          ]
        },
        {
          "output_type": "execute_result",
          "data": {
            "text/plain": [
              "{'messages': 'Transformers'}"
            ]
          },
          "metadata": {},
          "execution_count": 37
        }
      ]
    },
    {
      "cell_type": "code",
      "source": [
        "def router(state:AgentState):\n",
        "  print(\"Router--->\")\n",
        "  messages = state[\"messages\"]\n",
        "  last_messages = messages[-1]\n",
        "  print(last_messages.content,\"2\")\n",
        "  if \"Transformers\" in last_messages:\n",
        "    return \"RAG Call\"\n",
        "  else:\n",
        "    return \"LLM Call\""
      ],
      "metadata": {
        "id": "e_M7Rd4w1OQ9"
      },
      "execution_count": 38,
      "outputs": []
    },
    {
      "cell_type": "code",
      "source": [
        "def function2(state:AgentState):\n",
        "  print(\"Calling RAG--->\")\n",
        "  messages = state[\"messages\"]\n",
        "  question = messages[0]\n",
        "  print(question)\n",
        "\n",
        "  template = '''\n",
        "  Answer the question based on the following context:\n",
        "  {context}\n",
        "  Question: {question}\n",
        "  '''\n",
        "  prompt = ChatPromptTemplate.from_template(template)\n",
        "\n",
        "  chain = (\n",
        "      {\"context\": retriever , \"question\":RunnablePassthrough()}\n",
        "      | prompt\n",
        "      | llm\n",
        "      | StrOutputParser()\n",
        "  )\n",
        "\n",
        "  result = chain.invoke(question)\n",
        "  return {\"messages\":[result]}"
      ],
      "metadata": {
        "id": "QkqXoGWV1mwi"
      },
      "execution_count": 39,
      "outputs": []
    },
    {
      "cell_type": "code",
      "source": [
        "def function3(state:AgentState):\n",
        "  print(\"Calling LLM--->\")\n",
        "  messages = state[\"messages\"]\n",
        "  question = messages[0]\n",
        "\n",
        "  complete_query = f\"Answer the following question briefly {question}\"\n",
        "  response = llm.invoke(complete_query)\n",
        "  return {\"messages\": [response.content]}\n"
      ],
      "metadata": {
        "id": "RtW8Q85d1wl6"
      },
      "execution_count": 40,
      "outputs": []
    },
    {
      "cell_type": "code",
      "source": [
        "workflow5 = StateGraph(AgentState)\n",
        "\n",
        "workflow5.add_node(\"Agent\",function1)\n",
        "workflow5.add_node(\"RAG\",function2)\n",
        "workflow5.add_node(\"LLM\",function3)\n",
        "\n",
        "workflow5.add_edge(START,\"Agent\")\n",
        "workflow5.add_conditional_edges(\"Agent\",\n",
        "                                router,\n",
        "                                {\n",
        "                                    \"RAG Call\":\"RAG\",\n",
        "                                    \"LLM Call\":\"LLM\"\n",
        "                                })\n",
        "workflow5.add_edge(\"RAG\",END)\n",
        "workflow5.add_edge(\"LLM\",END)\n",
        "\n",
        "graph = workflow5.compile()\n",
        "graph"
      ],
      "metadata": {
        "colab": {
          "base_uri": "https://localhost:8080/",
          "height": 374
        },
        "id": "hT-P6jxk2NUm",
        "outputId": "ea144f28-d52f-4b09-b6cb-1f4584325a94"
      },
      "execution_count": 41,
      "outputs": [
        {
          "output_type": "execute_result",
          "data": {
            "text/plain": [
              "<langgraph.graph.state.CompiledStateGraph object at 0x7cbac9bf8c50>"
            ],
            "image/png": "[encoded data removed]"
          },
          "metadata": {},
          "execution_count": 41
        }
      ]
    },
    {
      "cell_type": "code",
      "source": [
        "output = graph.invoke({\"messages\":[\"What is Transformers\"]})\n",
        "print(output)"
      ],
      "metadata": {
        "colab": {
          "base_uri": "https://localhost:8080/"
        },
        "id": "k5PI2prT2lil",
        "outputId": "99405344-7203-4315-c36d-9dbcfdd5a665"
      },
      "execution_count": 42,
      "outputs": [
        {
          "output_type": "stream",
          "name": "stdout",
          "text": [
            "content='What is Transformers' additional_kwargs={} response_metadata={} id='89efeb46-bab0-459a-ac9f-54c4464d4865'\n",
            "Transformers 1\n",
            "Router--->\n",
            "Transformers 2\n",
            "Calling LLM--->\n",
            "{'messages': [HumanMessage(content='What is Transformers', additional_kwargs={}, response_metadata={}, id='89efeb46-bab0-459a-ac9f-54c4464d4865'), HumanMessage(content='Transformers', additional_kwargs={}, response_metadata={}, id='2b132048-07f0-424c-a08b-b9eb179bcde3'), HumanMessage(content='Transformers are a type of neural network architecture, primarily used in natural language processing (NLP), that leverage self-attention mechanisms to process sequential data.', additional_kwargs={}, response_metadata={}, id='f526d2b7-027d-4c3b-9fef-f1278f914946')]}\n"
          ]
        }
      ]
    }
  ]
}