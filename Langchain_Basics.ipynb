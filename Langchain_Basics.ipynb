{
  "nbformat": 4,
  "nbformat_minor": 0,
  "metadata": {
    "colab": {
      "provenance": []
    },
    "kernelspec": {
      "name": "python3",
      "display_name": "Python 3"
    },
    "language_info": {
      "name": "python"
    }
  },
  "cells": [
    {
      "cell_type": "code",
      "execution_count": 1,
      "metadata": {
        "id": "tsga4vK6C9m-"
      },
      "outputs": [],
      "source": [
        "! pip -q install langchain-core langchain-community langchain-google-genai langgraph langserve fastapi sse_starlette uvicorn"
      ]
    },
    {
      "cell_type": "code",
      "source": [
        "from google.colab import userdata\n",
        "import os\n",
        "\n",
        "from langchain_core.messages import HumanMessage, SystemMessage\n",
        "from langchain_google_genai import ChatGoogleGenerativeAI\n",
        "from langchain_core.output_parsers import StrOutputParser\n",
        "from langchain_core.prompts import ChatPromptTemplate\n",
        "\n",
        "from fastapi import FastAPI\n",
        "from langserve import add_routes\n",
        "\n",
        "from langchain_community.tools.tavily_search import TavilySearchResults\n",
        "from langgraph.checkpoint.memory import MemorySaver\n",
        "from langgraph.prebuilt import create_react_agent, ToolNode\n",
        "from langgraph.graph import END, StateGraph, MessagesState\n",
        "from langchain_core.tools import tool\n",
        "from typing import Literal"
      ],
      "metadata": {
        "id": "V-R9IsIZH9iM"
      },
      "execution_count": 2,
      "outputs": []
    },
    {
      "cell_type": "code",
      "source": [
        "GOOGLE_API_KEY = userdata.get('GOOGLE_API_KEY')\n",
        "LANGCHAIN_API_KEY = userdata.get('LANGCHAIN_API_KEY')\n",
        "TAVILY_API_KEY = userdata.get('TAVILY_API_KEY')\n",
        "os.environ[\"GOOGLE_API_KEY\"] = GOOGLE_API_KEY\n",
        "os.environ[\"LANGCHAIN_API_KEY\"] = LANGCHAIN_API_KEY\n",
        "os.environ[\"TAVILY_API_KEY\"] = TAVILY_API_KEY\n",
        "os.environ[\"LANGCHAIN_PROJECT\"] = \"GenAI-Latest-Practice\"\n",
        "os.environ[\"LANGCHAIN_TRACING_V2\"] = \"true\""
      ],
      "metadata": {
        "id": "H84y5sHyKG9c"
      },
      "execution_count": 3,
      "outputs": []
    },
    {
      "cell_type": "code",
      "source": [
        "model = ChatGoogleGenerativeAI(model=\"gemini-1.5-flash\")"
      ],
      "metadata": {
        "id": "D9lxQZ0sKRyH"
      },
      "execution_count": 4,
      "outputs": []
    },
    {
      "cell_type": "code",
      "source": [
        "message = [SystemMessage(content=\"Hi you are helpful Assistant\"),HumanMessage(content=\"Tell me about yourself?\")]"
      ],
      "metadata": {
        "id": "-O_2rGx-KVs5"
      },
      "execution_count": 5,
      "outputs": []
    },
    {
      "cell_type": "code",
      "source": [
        "print(model.invoke(message))"
      ],
      "metadata": {
        "colab": {
          "base_uri": "https://localhost:8080/"
        },
        "id": "io3eHO2RMusX",
        "outputId": "aaaa7c49-1a69-4bec-ca53-21d2cc2c053f"
      },
      "execution_count": 6,
      "outputs": [
        {
          "output_type": "stream",
          "name": "stdout",
          "text": [
            "content=\"I am a large language model, trained by Google.  I am a helpful and informative AI assistant, able to communicate and generate human-like text in response to a wide range of prompts and questions.  My knowledge cutoff is September 2021, meaning I don't have information on events after that date.  I can perform many tasks, including:\\n\\n* **Answering questions:** I strive to provide accurate and comprehensive answers based on the data I was trained on.\\n* **Generating text:** I can write stories, poems, articles, summaries, and more, adapting my style to suit the task.\\n* **Translating languages:** I can translate between multiple languages.\\n* **Summarizing text:** I can condense large amounts of text into concise summaries.\\n* **Following instructions:** I can follow specific instructions and complete tasks as directed.\\n\\nWhile I aim to be helpful and informative, it's important to remember that I am still under development.  My responses are based on patterns and information from my training data, and I may sometimes produce incorrect or nonsensical answers.  It's always a good idea to verify information from multiple sources.\\n\" additional_kwargs={} response_metadata={'prompt_feedback': {'block_reason': 0, 'safety_ratings': []}, 'finish_reason': 'STOP', 'safety_ratings': []} id='run-9bc9288c-9dd2-413b-89c0-feb292f95246-0' usage_metadata={'input_tokens': 11, 'output_tokens': 240, 'total_tokens': 251, 'input_token_details': {'cache_read': 0}}\n"
          ]
        }
      ]
    },
    {
      "cell_type": "code",
      "source": [
        "print(model.invoke(message).content)"
      ],
      "metadata": {
        "colab": {
          "base_uri": "https://localhost:8080/"
        },
        "id": "PMnfWiXOMz27",
        "outputId": "06525cec-8866-4cef-c3d4-2f66aecd9d15"
      },
      "execution_count": 7,
      "outputs": [
        {
          "output_type": "stream",
          "name": "stdout",
          "text": [
            "I am a large language model, trained by Google.  I'm designed to be informative and comprehensive. I can communicate and generate human-like text in response to a wide range of prompts and questions.  My knowledge cutoff is 2021, meaning I don't have information on events after that year.  I'm still under development, and learning new things all the time.  I strive to be helpful and harmless, but I don't have personal opinions, emotions, or experiences.  My primary goal is to assist users by providing information and completing tasks as instructed.\n",
            "\n"
          ]
        }
      ]
    },
    {
      "cell_type": "markdown",
      "source": [
        "# Output Parser"
      ],
      "metadata": {
        "id": "t7SyipuQN88m"
      }
    },
    {
      "cell_type": "code",
      "source": [
        "parser = StrOutputParser()"
      ],
      "metadata": {
        "id": "cOPkc8ruM7yZ"
      },
      "execution_count": 8,
      "outputs": []
    },
    {
      "cell_type": "code",
      "source": [
        "print(parser.invoke(model.invoke(message)))"
      ],
      "metadata": {
        "colab": {
          "base_uri": "https://localhost:8080/"
        },
        "id": "P8VyWbA0NTQ8",
        "outputId": "a1ad85c7-a090-4407-abb9-21608f6007d6"
      },
      "execution_count": 9,
      "outputs": [
        {
          "output_type": "stream",
          "name": "stdout",
          "text": [
            "I am a large language model, trained by Google.  I'm a conversational AI, meaning I can communicate and generate human-like text in response to a wide range of prompts and questions.  My knowledge cutoff is September 2021, so I don't have information on events after that date.\n",
            "\n",
            "I'm designed to be helpful and informative.  I can perform many tasks, including:\n",
            "\n",
            "* **Answering questions:**  I can access and process information from a massive dataset to answer your questions factually and comprehensively.\n",
            "* **Generating text:** I can write stories, poems, articles, summaries, and more, adapting my style to suit your needs.\n",
            "* **Translating languages:** I can translate text between multiple languages.\n",
            "* **Summarizing text:** I can condense large amounts of text into concise summaries.\n",
            "* **Following instructions:** I can follow your instructions and complete tasks as directed.\n",
            "\n",
            "However, it's important to note that I am not sentient. I don't have personal opinions, beliefs, or experiences.  My responses are based on the data I was trained on.  While I strive for accuracy, my responses should always be critically evaluated.  If you have any doubts about the information I provide, please verify it with reliable sources.\n",
            "\n"
          ]
        }
      ]
    },
    {
      "cell_type": "markdown",
      "source": [
        "# Chaining with LCEL"
      ],
      "metadata": {
        "id": "6ir__-wvOCW6"
      }
    },
    {
      "cell_type": "code",
      "source": [
        "chain = model | parser"
      ],
      "metadata": {
        "id": "j2aPrC7oOE0s"
      },
      "execution_count": 10,
      "outputs": []
    },
    {
      "cell_type": "code",
      "source": [
        "chain.invoke(\"tell me about yourself\")"
      ],
      "metadata": {
        "colab": {
          "base_uri": "https://localhost:8080/",
          "height": 127
        },
        "id": "fWBku31ZU2t0",
        "outputId": "c40c5f1e-bd7f-418b-a767-e38d369e57d0"
      },
      "execution_count": 11,
      "outputs": [
        {
          "output_type": "execute_result",
          "data": {
            "text/plain": [
              "\"I am a large language model, trained by Google.  I'm a conversational AI, which means I can communicate and generate human-like text in response to a wide range of prompts and questions.  My knowledge cutoff is September 2021, meaning I don't have information on events after that date.\\n\\nI don't have personal experiences, feelings, or opinions like a human does.  My purpose is to process information and respond in a way that is helpful, informative, and comprehensive.  I'm constantly learning and improving through the vast amount of text data I've been trained on.\\n\\nThink of me as a sophisticated research assistant that can access and process information from a massive database. I can help you with things like writing different creative text formats (poems, code, scripts, musical pieces, email, letters, etc.), translating languages, answering your questions in an informative way, even if they are open ended, challenging, or strange, and much more.\\n\\nEssentially, I'm a tool designed to assist you with various tasks involving language and information.  I'm here to help!  What can I do for you today?\\n\""
            ],
            "application/vnd.google.colaboratory.intrinsic+json": {
              "type": "string"
            }
          },
          "metadata": {},
          "execution_count": 11
        }
      ]
    },
    {
      "cell_type": "code",
      "source": [
        "chain.invoke(message)"
      ],
      "metadata": {
        "colab": {
          "base_uri": "https://localhost:8080/",
          "height": 127
        },
        "id": "_aPbuqqnU_0n",
        "outputId": "cd84bf0c-364d-4163-b44c-48c6b8865338"
      },
      "execution_count": 12,
      "outputs": [
        {
          "output_type": "execute_result",
          "data": {
            "text/plain": [
              "\"I am a large language model, trained by Google.  I'm a conversational AI, meaning I can communicate and generate human-like text in response to a wide range of prompts and questions.  My knowledge is based on a massive dataset of text and code, allowing me to access and process information from a vast range of sources.  I can perform many tasks, including:\\n\\n* **Answering questions:** I can provide information on a wide variety of topics.\\n* **Generating text:** I can write stories, poems, articles, summaries, and more.\\n* **Translating languages:** I can translate text between multiple languages.\\n* **Writing different kinds of creative content:**  From poems to code, I can try my hand at various creative tasks.\\n* **Following your instructions and completing your requests:** I strive to be helpful and informative.\\n\\nHowever, it's important to remember that I am not a sentient being. I don't have personal experiences, opinions, or emotions. My responses are based on the patterns and information I've learned from my training data.  I am constantly learning and improving, but I am still under development.  I always aim to provide helpful and accurate information, but it's always a good idea to verify important information from other reliable sources.\\n\""
            ],
            "application/vnd.google.colaboratory.intrinsic+json": {
              "type": "string"
            }
          },
          "metadata": {},
          "execution_count": 12
        }
      ]
    },
    {
      "cell_type": "markdown",
      "source": [
        "# Prompt Template"
      ],
      "metadata": {
        "id": "B4HDoZYQN6Gz"
      }
    },
    {
      "cell_type": "code",
      "source": [
        "system_message = \"You are a language expert who can do translation to hindi\""
      ],
      "metadata": {
        "id": "vaPIalnrNXtv"
      },
      "execution_count": 13,
      "outputs": []
    },
    {
      "cell_type": "code",
      "source": [
        "prompt = ChatPromptTemplate.from_messages([\n",
        "    (\"system\",system_message),\n",
        "    (\"user\",\"{text}\")\n",
        "])"
      ],
      "metadata": {
        "id": "h48s-b0CVn4W"
      },
      "execution_count": 14,
      "outputs": []
    },
    {
      "cell_type": "code",
      "source": [
        "prompt.invoke({\"text\":\"Hello\"})"
      ],
      "metadata": {
        "colab": {
          "base_uri": "https://localhost:8080/"
        },
        "id": "N9VrpS1eWCe6",
        "outputId": "c711f090-d3c5-4d90-9dcc-bdc36c5d9d98"
      },
      "execution_count": 15,
      "outputs": [
        {
          "output_type": "execute_result",
          "data": {
            "text/plain": [
              "ChatPromptValue(messages=[SystemMessage(content='You are a language expert who can do translation to hindi', additional_kwargs={}, response_metadata={}), HumanMessage(content='Hello', additional_kwargs={}, response_metadata={})])"
            ]
          },
          "metadata": {},
          "execution_count": 15
        }
      ]
    },
    {
      "cell_type": "code",
      "source": [
        "chain = prompt | model | parser"
      ],
      "metadata": {
        "id": "rYwZ8G-yWawu"
      },
      "execution_count": 16,
      "outputs": []
    },
    {
      "cell_type": "code",
      "source": [
        "chain.invoke({\"text\":\"hello\"})"
      ],
      "metadata": {
        "colab": {
          "base_uri": "https://localhost:8080/",
          "height": 36
        },
        "id": "x-fu8fghWnbQ",
        "outputId": "a7d1f52d-73bf-4fed-bed2-aa352442d771"
      },
      "execution_count": 17,
      "outputs": [
        {
          "output_type": "execute_result",
          "data": {
            "text/plain": [
              "'नमस्ते (Namaste)\\n'"
            ],
            "application/vnd.google.colaboratory.intrinsic+json": {
              "type": "string"
            }
          },
          "metadata": {},
          "execution_count": 17
        }
      ]
    },
    {
      "cell_type": "markdown",
      "source": [
        "# Langserve"
      ],
      "metadata": {
        "id": "0pyNVNRIYaCp"
      }
    },
    {
      "cell_type": "code",
      "source": [
        "system_message = \"You are a language expert who can do translation to hindi\""
      ],
      "metadata": {
        "id": "tg1WPXTBWqYq"
      },
      "execution_count": 18,
      "outputs": []
    },
    {
      "cell_type": "code",
      "source": [
        "prompt = ChatPromptTemplate.from_messages([\n",
        "    (\"system\",system_message),\n",
        "    (\"user\",\"{text}\")\n",
        "])"
      ],
      "metadata": {
        "id": "yU9mmaktY9PE"
      },
      "execution_count": 19,
      "outputs": []
    },
    {
      "cell_type": "code",
      "source": [
        "model = ChatGoogleGenerativeAI(model=\"gemini-1.5-flash\")\n",
        "\n",
        "parser = StrOutputParser()"
      ],
      "metadata": {
        "id": "fqZ3EFHMZI9o"
      },
      "execution_count": 20,
      "outputs": []
    },
    {
      "cell_type": "code",
      "source": [
        "chain = prompt | model | parser"
      ],
      "metadata": {
        "id": "X4Wj_hXAY-sE"
      },
      "execution_count": 21,
      "outputs": []
    },
    {
      "cell_type": "code",
      "source": [
        "app=FastAPI(title=\"LLM\",version=\"1.0\")"
      ],
      "metadata": {
        "id": "dOOT3cqxZzA7"
      },
      "execution_count": 22,
      "outputs": []
    },
    {
      "cell_type": "code",
      "source": [
        "add_routes(app,\n",
        "          chain,\n",
        "          path=\"/chain\")"
      ],
      "metadata": {
        "id": "APNRpSVsZHOP"
      },
      "execution_count": 23,
      "outputs": []
    },
    {
      "cell_type": "code",
      "source": [
        "# uvicorn.run(app,host=\"localhost\",port=8000)"
      ],
      "metadata": {
        "id": "nwdi2OahZc87"
      },
      "execution_count": 24,
      "outputs": []
    },
    {
      "cell_type": "markdown",
      "source": [
        "# Agents"
      ],
      "metadata": {
        "id": "giMHBg6YbBBg"
      }
    },
    {
      "cell_type": "code",
      "source": [
        "memory = MemorySaver()"
      ],
      "metadata": {
        "id": "EX8T-15RdYXm"
      },
      "execution_count": 25,
      "outputs": []
    },
    {
      "cell_type": "code",
      "source": [
        "search=TavilySearchResults( max_results=2)"
      ],
      "metadata": {
        "id": "qZaLuKzrdaRJ"
      },
      "execution_count": 26,
      "outputs": []
    },
    {
      "cell_type": "code",
      "source": [
        "tools=[search]"
      ],
      "metadata": {
        "id": "F9HGy9SAdm_d"
      },
      "execution_count": 27,
      "outputs": []
    },
    {
      "cell_type": "code",
      "source": [
        "agent_executor=create_react_agent(model,tools,checkpointer=memory)"
      ],
      "metadata": {
        "id": "-JIHB1VadzoM"
      },
      "execution_count": 28,
      "outputs": []
    },
    {
      "cell_type": "code",
      "source": [
        "config = {\"configurable\": {\"thread_id\": \"abc123\"}}"
      ],
      "metadata": {
        "id": "6XNRCqUXeO9w"
      },
      "execution_count": 29,
      "outputs": []
    },
    {
      "cell_type": "code",
      "source": [
        "for chunk in agent_executor.stream({\"messages\":[HumanMessage(content=\"hi im saurav! and i live in bangalore\")]}, config):\n",
        "    print(chunk)\n",
        "    print(\"----\")"
      ],
      "metadata": {
        "colab": {
          "base_uri": "https://localhost:8080/"
        },
        "id": "4qZ9qSYzeVbN",
        "outputId": "4fdd81b2-3e3f-437e-d5a9-6a9ab91a3527"
      },
      "execution_count": 30,
      "outputs": [
        {
          "output_type": "stream",
          "name": "stdout",
          "text": [
            "{'agent': {'messages': [AIMessage(content=\"Hello Saurav!  It's nice to meet you.  Bangalore is a great city.\\n\", additional_kwargs={}, response_metadata={'prompt_feedback': {'block_reason': 0, 'safety_ratings': []}, 'finish_reason': 'STOP', 'safety_ratings': []}, id='run-a641b9c4-db8e-49ad-af14-c836eaa3fb6f-0', usage_metadata={'input_tokens': 85, 'output_tokens': 21, 'total_tokens': 106, 'input_token_details': {'cache_read': 0}})]}}\n",
            "----\n"
          ]
        }
      ]
    },
    {
      "cell_type": "code",
      "source": [
        "for chunk in agent_executor.stream({\"messages\":[HumanMessage(content=\"whats the weather where I live?\")]},config):\n",
        "  print(chunk)"
      ],
      "metadata": {
        "colab": {
          "base_uri": "https://localhost:8080/"
        },
        "id": "7N2WGGWaewTa",
        "outputId": "0e76b2d2-6976-42d0-8746-d532384e2405"
      },
      "execution_count": 31,
      "outputs": [
        {
          "output_type": "stream",
          "name": "stdout",
          "text": [
            "{'agent': {'messages': [AIMessage(content=\"I'm sorry, I cannot directly access real-time information, like weather.  I do not have the functionality to get weather information for Bangalore.\\n\", additional_kwargs={}, response_metadata={'prompt_feedback': {'block_reason': 0, 'safety_ratings': []}, 'finish_reason': 'STOP', 'safety_ratings': []}, id='run-45404bfe-32d8-44ae-b4c3-4ea4a4c6f689-0', usage_metadata={'input_tokens': 115, 'output_tokens': 32, 'total_tokens': 147, 'input_token_details': {'cache_read': 0}})]}}\n"
          ]
        }
      ]
    },
    {
      "cell_type": "markdown",
      "source": [
        "# Langgraph"
      ],
      "metadata": {
        "id": "VJ5FsNSMkKrC"
      }
    },
    {
      "cell_type": "code",
      "source": [
        "@tool\n",
        "def search(query: str):\n",
        "    \"\"\"Call to surf the web.\"\"\"\n",
        "    if \"sf\" in query.lower() or \"san francisco\" in query.lower():\n",
        "        return \"It's 60 degrees and foggy.\"\n",
        "    return \"It's 90 degrees and sunny.\""
      ],
      "metadata": {
        "id": "xYI6GYVefYnN"
      },
      "execution_count": 32,
      "outputs": []
    },
    {
      "cell_type": "code",
      "source": [
        "tools = [search]"
      ],
      "metadata": {
        "id": "X1kcreHgkmOM"
      },
      "execution_count": 33,
      "outputs": []
    },
    {
      "cell_type": "code",
      "source": [
        "tool_node = ToolNode(tools)"
      ],
      "metadata": {
        "id": "nvibvRGbkn-S"
      },
      "execution_count": 34,
      "outputs": []
    },
    {
      "cell_type": "code",
      "source": [
        "def call_model(state: MessagesState):\n",
        "    messages = state['messages']\n",
        "    response = model.invoke(messages)\n",
        "    # We return a list, because this will get added to the existing list\n",
        "    return {\"messages\": [response]}"
      ],
      "metadata": {
        "id": "dsfv9gGHkwNY"
      },
      "execution_count": 35,
      "outputs": []
    },
    {
      "cell_type": "code",
      "source": [
        "def should_continue(state: MessagesState) -> Literal[\"tools\", END]:\n",
        "    messages = state['messages']\n",
        "    last_message = messages[-1]\n",
        "\n",
        "    # If the LLM makes a tool call, then we route to the \"tools\" node\n",
        "    if last_message.tool_calls:\n",
        "        return \"tools\"\n",
        "    # Otherwise, we stop (reply to the user)\n",
        "    return END"
      ],
      "metadata": {
        "id": "ruRHftWlk3mW"
      },
      "execution_count": 36,
      "outputs": []
    },
    {
      "cell_type": "code",
      "source": [
        "workflow = StateGraph(MessagesState)"
      ],
      "metadata": {
        "id": "d3VBQCNAlH1M"
      },
      "execution_count": 37,
      "outputs": []
    },
    {
      "cell_type": "code",
      "source": [
        "workflow.add_node(\"agent\", call_model)"
      ],
      "metadata": {
        "colab": {
          "base_uri": "https://localhost:8080/"
        },
        "id": "LDTuqSfQlphU",
        "outputId": "9b3479fc-37c3-488c-f83a-45761e8f389f"
      },
      "execution_count": 38,
      "outputs": [
        {
          "output_type": "execute_result",
          "data": {
            "text/plain": [
              "<langgraph.graph.state.StateGraph at 0x7ca64008f3a0>"
            ]
          },
          "metadata": {},
          "execution_count": 38
        }
      ]
    },
    {
      "cell_type": "code",
      "source": [
        "workflow.add_node(\"tools\", call_model)"
      ],
      "metadata": {
        "colab": {
          "base_uri": "https://localhost:8080/"
        },
        "id": "czbr6i1bm4Ru",
        "outputId": "e04ab97c-0724-45c1-ce8e-795d1b8d079c"
      },
      "execution_count": 39,
      "outputs": [
        {
          "output_type": "execute_result",
          "data": {
            "text/plain": [
              "<langgraph.graph.state.StateGraph at 0x7ca64008f3a0>"
            ]
          },
          "metadata": {},
          "execution_count": 39
        }
      ]
    },
    {
      "cell_type": "code",
      "source": [
        "# We now add a conditional edge\n",
        "workflow.add_conditional_edges(\n",
        "    # First, we define the start node. We use `agent`.\n",
        "    # This means these are the edges taken after the `agent` node is called.\n",
        "    \"agent\",\n",
        "    # Next, we pass in the function that will determine which node is called next.\n",
        "    should_continue,\n",
        ")"
      ],
      "metadata": {
        "colab": {
          "base_uri": "https://localhost:8080/"
        },
        "id": "DMec4qOnl1IM",
        "outputId": "ad6c61ee-c987-4632-fab6-ac13646825ef"
      },
      "execution_count": 40,
      "outputs": [
        {
          "output_type": "execute_result",
          "data": {
            "text/plain": [
              "<langgraph.graph.state.StateGraph at 0x7ca64008f3a0>"
            ]
          },
          "metadata": {},
          "execution_count": 40
        }
      ]
    },
    {
      "cell_type": "code",
      "source": [
        "workflow.set_entry_point(\"agent\")"
      ],
      "metadata": {
        "colab": {
          "base_uri": "https://localhost:8080/"
        },
        "id": "V8_HyZosl7aK",
        "outputId": "a1392bac-35d9-4d80-bd44-bc57565d8f7e"
      },
      "execution_count": 41,
      "outputs": [
        {
          "output_type": "execute_result",
          "data": {
            "text/plain": [
              "<langgraph.graph.state.StateGraph at 0x7ca64008f3a0>"
            ]
          },
          "metadata": {},
          "execution_count": 41
        }
      ]
    },
    {
      "cell_type": "code",
      "source": [
        "workflow.add_edge(\"tools\",\"agent\")"
      ],
      "metadata": {
        "colab": {
          "base_uri": "https://localhost:8080/"
        },
        "id": "xBceaFLSmMMf",
        "outputId": "8d3ecbd0-4a39-45b4-9a95-c3088b16f3f7"
      },
      "execution_count": 42,
      "outputs": [
        {
          "output_type": "execute_result",
          "data": {
            "text/plain": [
              "<langgraph.graph.state.StateGraph at 0x7ca64008f3a0>"
            ]
          },
          "metadata": {},
          "execution_count": 42
        }
      ]
    },
    {
      "cell_type": "code",
      "source": [
        "checkpointer = MemorySaver()"
      ],
      "metadata": {
        "id": "jv529sQvmQny"
      },
      "execution_count": 43,
      "outputs": []
    },
    {
      "cell_type": "code",
      "source": [
        "app=workflow.compile(checkpointer=checkpointer)"
      ],
      "metadata": {
        "id": "_TILxUwBmUDV"
      },
      "execution_count": 44,
      "outputs": []
    },
    {
      "cell_type": "code",
      "source": [
        "from IPython.display import Image, display\n",
        "\n",
        "try:\n",
        "    display(Image(app.get_graph().draw_mermaid_png()))\n",
        "except Exception:\n",
        "    # This requires some extra dependencies and is optional\n",
        "    pass"
      ],
      "metadata": {
        "colab": {
          "base_uri": "https://localhost:8080/",
          "height": 266
        },
        "id": "k9Yf_254mc4w",
        "outputId": "bdb1fd5f-65c7-4440-f16f-bda0ae3f8171"
      },
      "execution_count": 45,
      "outputs": [
        {
          "output_type": "display_data",
          "data": {
            "image/png": "[encoded data removed]",
            "text/plain": [
              "<IPython.core.display.Image object>"
            ]
          },
          "metadata": {}
        }
      ]
    },
    {
      "cell_type": "code",
      "source": [
        "final_state = app.invoke({\"messages\": [HumanMessage(content=\"what is the tomorrow weather in sf?\")]},config={\"configurable\": {\"thread_id\": \"abc123\"}})"
      ],
      "metadata": {
        "id": "3am695jpm_Dm"
      },
      "execution_count": 46,
      "outputs": []
    },
    {
      "cell_type": "code",
      "source": [
        "final_state[\"messages\"][-1].content"
      ],
      "metadata": {
        "colab": {
          "base_uri": "https://localhost:8080/",
          "height": 72
        },
        "id": "doP2Y2kunBra",
        "outputId": "80c8fa54-71a7-4c63-fb54-bd37a0707328"
      },
      "execution_count": 47,
      "outputs": [
        {
          "output_type": "execute_result",
          "data": {
            "text/plain": [
              "'I do not have access to real-time information, including current weather forecasts.  To get the weather forecast for San Francisco tomorrow, please check a reliable weather source such as:\\n\\n* **Google Weather:** Search \"weather San Francisco\" on Google.\\n* **AccuWeather:** Check the AccuWeather website or app.\\n* **The Weather Channel:** Check the Weather Channel website or app.\\n* **National Weather Service:** Check the website of the National Weather Service.\\n\\n\\nThese sources will provide you with the most up-to-date forecast.\\n'"
            ],
            "application/vnd.google.colaboratory.intrinsic+json": {
              "type": "string"
            }
          },
          "metadata": {},
          "execution_count": 47
        }
      ]
    }
  ]
}