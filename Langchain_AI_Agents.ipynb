{
  "nbformat": 4,
  "nbformat_minor": 0,
  "metadata": {
    "colab": {
      "provenance": []
    },
    "kernelspec": {
      "name": "python3",
      "display_name": "Python 3"
    },
    "language_info": {
      "name": "python"
    }
  },
  "cells": [
    {
      "cell_type": "code",
      "execution_count": 51,
      "metadata": {
        "id": "USPGC0mxFUQT"
      },
      "outputs": [],
      "source": [
        "! pip -q install langchain-community langchain-core langgraph langserve langchain-google-genai wikipedia"
      ]
    },
    {
      "cell_type": "code",
      "source": [
        "from langchain_google_genai import ChatGoogleGenerativeAI, GoogleGenerativeAIEmbeddings\n",
        "from google.colab import userdata\n",
        "import os\n",
        "\n",
        "from langchain.agents import tool, AgentExecutor\n",
        "from langchain.agents import AgentType, initialize_agent, load_tools, create_tool_calling_agent\n",
        "from langchain_community.tools.tavily_search import TavilySearchResults\n",
        "from langchain import hub"
      ],
      "metadata": {
        "id": "jAFMFjW_F7hQ"
      },
      "execution_count": 74,
      "outputs": []
    },
    {
      "cell_type": "code",
      "source": [
        "GOOGLE_API_KEY = userdata.get('GOOGLE_API_KEY')\n",
        "TAVILY_API_KEY = userdata.get('TAVILY_API_KEY')\n",
        "\n",
        "os.environ[\"TAVILY_API_KEY\"] = TAVILY_API_KEY\n",
        "os.environ[\"GOOGLE_API_KEY\"] = GOOGLE_API_KEY"
      ],
      "metadata": {
        "id": "8tvvLQ9WGBvD"
      },
      "execution_count": 53,
      "outputs": []
    },
    {
      "cell_type": "code",
      "source": [
        "llm = ChatGoogleGenerativeAI(model=\"gemini-1.5-flash\")"
      ],
      "metadata": {
        "id": "h09UkCFPGRXR"
      },
      "execution_count": 54,
      "outputs": []
    },
    {
      "cell_type": "code",
      "source": [
        "embedding = GoogleGenerativeAIEmbeddings(model=\"models/embedding-001\")"
      ],
      "metadata": {
        "id": "vjmN-XtFGWgS"
      },
      "execution_count": 55,
      "outputs": []
    },
    {
      "cell_type": "markdown",
      "source": [
        "# Create Custom Tool"
      ],
      "metadata": {
        "id": "EW7k22n8ITir"
      }
    },
    {
      "cell_type": "code",
      "source": [
        "@tool\n",
        "def get_word_length(word: str) -> int:\n",
        "    \"\"\"Returns the length of a word.\"\"\"\n",
        "    return len(word)"
      ],
      "metadata": {
        "id": "mNwMlcLcGk58"
      },
      "execution_count": 56,
      "outputs": []
    },
    {
      "cell_type": "code",
      "source": [
        "get_word_length.invoke(\"foo\")"
      ],
      "metadata": {
        "colab": {
          "base_uri": "https://localhost:8080/"
        },
        "id": "BKt4bsuLIeRV",
        "outputId": "847ccef7-a692-4466-9a69-c924539fe03a"
      },
      "execution_count": 57,
      "outputs": [
        {
          "output_type": "execute_result",
          "data": {
            "text/plain": [
              "3"
            ]
          },
          "metadata": {},
          "execution_count": 57
        }
      ]
    },
    {
      "cell_type": "code",
      "source": [
        "@tool\n",
        "def multiply(a: float, b: float) -> float:\n",
        "    \"\"\"Multiplies two numbers.\"\"\"\n",
        "    return a * b"
      ],
      "metadata": {
        "id": "wNFhemrCIfLr"
      },
      "execution_count": 58,
      "outputs": []
    },
    {
      "cell_type": "code",
      "source": [
        "print(multiply.name)\n",
        "print(multiply.description)\n",
        "print(multiply.args)"
      ],
      "metadata": {
        "colab": {
          "base_uri": "https://localhost:8080/"
        },
        "id": "KNJdUfIxIoxL",
        "outputId": "a4932e22-a20c-48dd-d474-9d5c78ad66f8"
      },
      "execution_count": 59,
      "outputs": [
        {
          "output_type": "stream",
          "name": "stdout",
          "text": [
            "multiply\n",
            "Multiplies two numbers.\n",
            "{'a': {'title': 'A', 'type': 'number'}, 'b': {'title': 'B', 'type': 'number'}}\n"
          ]
        }
      ]
    },
    {
      "cell_type": "code",
      "source": [
        "multiply.invoke({\"a\":2,\"b\":3})"
      ],
      "metadata": {
        "colab": {
          "base_uri": "https://localhost:8080/"
        },
        "id": "hvQwXiAuIsh9",
        "outputId": "6c18f47f-456e-4319-9baa-895626ebd751"
      },
      "execution_count": 60,
      "outputs": [
        {
          "output_type": "execute_result",
          "data": {
            "text/plain": [
              "6.0"
            ]
          },
          "metadata": {},
          "execution_count": 60
        }
      ]
    },
    {
      "cell_type": "markdown",
      "source": [
        "# First Version Of Agents"
      ],
      "metadata": {
        "id": "VPci8rAeJDUO"
      }
    },
    {
      "cell_type": "code",
      "source": [
        "tool = load_tools([\"wikipedia\"],llm=llm)"
      ],
      "metadata": {
        "id": "_A_s1rbEI2nr"
      },
      "execution_count": 61,
      "outputs": []
    },
    {
      "cell_type": "code",
      "source": [
        "agent = initialize_agent(tool,llm,agent=AgentType.ZERO_SHOT_REACT_DESCRIPTION,verbose=True)"
      ],
      "metadata": {
        "id": "X7v5FM6lLrS2"
      },
      "execution_count": 62,
      "outputs": []
    },
    {
      "cell_type": "code",
      "source": [
        "agent.invoke(\"What is the capital of France?\")"
      ],
      "metadata": {
        "colab": {
          "base_uri": "https://localhost:8080/"
        },
        "id": "BMa4XjBEL25z",
        "outputId": "c05b5bf3-2620-4950-ca31-184fdc682170"
      },
      "execution_count": 63,
      "outputs": [
        {
          "output_type": "stream",
          "name": "stdout",
          "text": [
            "\n",
            "\n",
            "\u001b[1m> Entering new AgentExecutor chain...\u001b[0m\n",
            "\u001b[32;1m\u001b[1;3mThought: I need to find the capital city of France.  Wikipedia is a good resource for this.\n",
            "Action: wikipedia\n",
            "Action Input: Paris\u001b[0m"
          ]
        },
        {
          "output_type": "stream",
          "name": "stderr",
          "text": [
            "/usr/local/lib/python3.10/dist-packages/wikipedia/wikipedia.py:389: GuessedAtParserWarning: No parser was explicitly specified, so I'm using the best available HTML parser for this system (\"lxml\"). This usually isn't a problem, but if you run this code on another system, or in a different virtual environment, it may use a different parser and behave differently.\n",
            "\n",
            "The code that caused this warning is on line 389 of the file /usr/local/lib/python3.10/dist-packages/wikipedia/wikipedia.py. To get rid of this warning, pass the additional argument 'features=\"lxml\"' to the BeautifulSoup constructor.\n",
            "\n",
            "  lis = BeautifulSoup(html).find_all('li')\n"
          ]
        },
        {
          "output_type": "stream",
          "name": "stdout",
          "text": [
            "\n",
            "Observation: \u001b[36;1m\u001b[1;3mPage: Paris\n",
            "Summary: Paris (French pronunciation: [paʁi] ) is the capital and largest city of France. With an estimated population of 2,102,650 residents in January 2023 in an area of more than 105 km2 (41 sq mi), Paris is the fourth-most populous city in the European Union, the ninth-most populous city in Europe and the 30th most densely populated city in the world in 2022. Since the 17th century, Paris has been one of the world's major centres of finance, diplomacy, commerce, culture, fashion, and gastronomy. Because of its leading role in the arts and sciences and its early adaptation of extensive street lighting, it became known as the City of Light in the 19th century.\n",
            "The City of Paris is the centre of the Île-de-France region, or Paris Region, with an official estimated population of 12,271,794 inhabitants in January 2023, or about 19% of the population of France. The Paris Region had a nominal GDP of €765 billion (US$1.064 trillion when adjusted for PPP) in 2021, the highest in the European Union. According to the Economist Intelligence Unit Worldwide Cost of Living Survey, in 2022, Paris was the city with the ninth-highest cost of living in the world.\n",
            "Paris is a major railway, highway, and air-transport hub served by two international airports: Charles de Gaulle Airport, the third-busiest airport in Europe, and Orly Airport. Opened in 1900, the city's subway system, the Paris Métro, serves 5.23 million passengers daily. It is the second-busiest metro system in Europe after the Moscow Metro. Gare du Nord is the 24th-busiest railway station in the world and the busiest outside Japan, with 262 million passengers in 2015. Paris has one of the most sustainable transportation systems and is one of only two cities in the world that received the Sustainable Transport Award twice.\n",
            "Paris is known for its museums and architectural landmarks: the Louvre received 8.9 million visitors in 2023, on track for keeping its position as the most-visited art museum in the world. The Musée d'Orsay, Musée Marmottan Monet and Musée de l'Orangerie are noted for their collections of French Impressionist art. The Pompidou Centre, Musée National d'Art Moderne, Musée Rodin and Musée Picasso are noted for their collections of modern and contemporary art. The historical district along the Seine in the city centre has been classified as a UNESCO World Heritage Site since 1991.\n",
            "Paris is home to several United Nations organizations including UNESCO, as well as other international organizations such as the OECD, the OECD Development Centre, the International Bureau of Weights and Measures, the International Energy Agency, the International Federation for Human Rights, along with European bodies such as the European Space Agency, the European Banking Authority and the European Securities and Markets Authority. The football club Paris Saint-Germain and the rugby union club Stade Français are based in Paris. The 81,000-seat Stade de France, built for the 1998 FIFA World Cup, is located just north of Paris in the neighbouring commune of Saint-Denis. Paris hosts the French Open, an annual Grand Slam tennis tournament, on the red clay of Roland Garros. Paris hosted the 1900, the 1924, and the 2024 Summer Olympics. The 1938 and 1998 FIFA World Cups, the 2019 FIFA Women's World Cup, the 2007 and 2023 Rugby World Cups, as well as the 1960, 1984 and 2016 UEFA European Championships were held in Paris. Every July, the Tour de France bicycle race finishes on the Avenue des Champs-Élysées.\n",
            "\n",
            "Page: Paris Paris\n",
            "Summary: Paris Paris is an unreleased Indian Tamil-language comedy drama film directed by Ramesh Aravind and produced by Manu Kumaran. A remake of the 2013 Hindi film Queen by Vikas Bahl, the film features Kajal Aggarwal alongside Elli Avram, Varun Shashi Rao, Vinaya Prasad, and Bhargavi Narayan.\n",
            "The film began production in September 2017, and gained notability for being shot simultaneously by the same producers in Telugu as That Is Mahalakshmi, in Kannada as B\u001b[0m\n",
            "Thought:\u001b[32;1m\u001b[1;3mThought: I need to find the capital city of France.  Wikipedia is a good resource for this.\n",
            "Action: wikipedia\n",
            "Action Input: Capital of France\u001b[0m\n",
            "Observation: \u001b[36;1m\u001b[1;3mPage: List of capitals of France\n",
            "Summary: This is a chronological list of capitals of France. The capital of France has been Paris since its liberation in 1944.\n",
            "\n",
            "\n",
            "\n",
            "Page: Capital punishment in France\n",
            "Summary: Capital punishment in France (French: peine de mort en France) is banned by Article 66-1 of the Constitution of the French Republic, voted as a constitutional amendment by the Congress of the French Parliament on 19 February 2007 and simply stating \"No one can be sentenced to the death penalty\" (French: Nul ne peut être condamné à la peine de mort). The death penalty was already declared illegal on 9 October 1981 when President François Mitterrand signed a law prohibiting the judicial system from using it and commuting the sentences of the seven people on death row to life imprisonment. The last execution took place by guillotine, being the main legal method since the French Revolution; Hamida Djandoubi, a Tunisian citizen convicted of torture and murder on French soil, was put to death in September 1977 in Marseille.\n",
            "Major French death penalty abolitionists across time have included philosopher Voltaire; poet Victor Hugo; politicians Léon Gambetta, Jean Jaurès and Aristide Briand; and writers Alphonse de Lamartine and Albert Camus.\n",
            "\n",
            "\n",
            "\n",
            "Page: Cayenne\n",
            "Summary: Cayenne (; French pronunciation: [kajɛn] ; Guianese Creole French: Kayenn) is the prefecture of French Guiana, an overseas region and department of France located in South America and its capital city.  The city stands on a former island at the mouth of the Cayenne River on the Atlantic coast.  The city's motto is \"fert aurum industria\", which means \"work brings wealth\". Cayenne is the largest Francophone city of the South American continent.\n",
            "In the 2021 census, there were 151,103 inhabitants in the metropolitan area of Cayenne (as defined by INSEE), 63,468 of whom lived in the city (commune) of Cayenne proper.\u001b[0m\n",
            "Thought:\u001b[32;1m\u001b[1;3mThought: I now know the final answer.\n",
            "Final Answer: Paris\n",
            "\u001b[0m\n",
            "\n",
            "\u001b[1m> Finished chain.\u001b[0m\n"
          ]
        },
        {
          "output_type": "execute_result",
          "data": {
            "text/plain": [
              "{'input': 'What is the capital of France?', 'output': 'Paris'}"
            ]
          },
          "metadata": {},
          "execution_count": 63
        }
      ]
    },
    {
      "cell_type": "markdown",
      "source": [
        "# Second Version"
      ],
      "metadata": {
        "id": "M3DH_-ZXM_6p"
      }
    },
    {
      "cell_type": "code",
      "source": [
        "search = TavilySearchResults()"
      ],
      "metadata": {
        "id": "ZR4yiLDiMGUy"
      },
      "execution_count": 64,
      "outputs": []
    },
    {
      "cell_type": "code",
      "source": [
        "search.invoke(\"What is the capital of France?\")"
      ],
      "metadata": {
        "colab": {
          "base_uri": "https://localhost:8080/"
        },
        "id": "esLTjr2yNRK5",
        "outputId": "c35d679d-7c02-4837-f70c-0d71b3ba0e1b"
      },
      "execution_count": 65,
      "outputs": [
        {
          "output_type": "execute_result",
          "data": {
            "text/plain": [
              "[{'url': 'https://simple.m.wikipedia.org/wiki/Capital_of_France',\n",
              "  'content': 'Learn about the history and current status of the capital of France, which is Paris. Find out which other cities have been the national capital in different periods of time.'},\n",
              " {'url': 'https://simple.m.wikipedia.org/wiki/Paris',\n",
              "  'content': 'Paris Paris (nicknamed the \"City of light\") is the capital city of France, and the largest city in France. Paris Paris Paris Paris Paris (Earth) | Department | Paris | When Hugh Capet became king of France in 987, he again made Paris his capital. For a long time, the kings only controlled Paris and the surrounding area, as much of the rest of France was in the hands of barons or English. ↑ \"Dossier complet − Aire urbaine de Paris (001) | Insee\". ↑ \"Paris\". ↑ \"5 Fun Facts about Paris\". ↑ \"Climatological Information for Paris, France\". ↑ \"Normes et records 1961–1990: Paris-Montsouris (75) – altitude 75m\" (in French). ↑ \"Paris, France – Climate data\". ↑ \"Paris (07150) - WMO Weather Station\".'},\n",
              " {'url': 'https://en.m.wikipedia.org/wiki/List_of_capitals_of_France',\n",
              "  'content': 'Paris (987–1419), the residence of the Kings of France, although they were consecrated at Reims. Paris (1594–1682)[citation needed] Tours (10–13 June 1940), the city served as the temporary capital of France during World War II after the government fled Paris due to the German advance. Bordeaux (June 1940), the government was relocated from Paris to Tours then Bordeaux very briefly during World War II, when it became apparent that Paris would soon fall into German hands. Brazzaville (1940–1943), with metropolitan France under Axis powers rule, Brazzaville was announced as the seat of the Free France government. Algiers (1943–1944), the city was made the seat of Free France, to be closer to the war in Europe.'},\n",
              " {'url': 'https://www.britannica.com/place/France',\n",
              "  'content': 'Even though its imperialist stage was driven by the impulse to civilize that world according to French standards (la mission civilisatrice), the French still note approvingly the words of writer Gustave Flaubert:\\nI am no more modern than I am ancient, no more French than Chinese; and the idea of la patrie, the fatherland—that is, the obligation to live on a bit of earth coloured red or blue on a map, and to detest the other bits coloured green or black—has always seemed to me narrow, restricted, and ferociously stupid.\\n Among France’s other major cities are Lyon, located along an ancient Rhône valley trade route linking the North Sea and the Mediterranean; Marseille, a multiethnic port on the Mediterranean founded as an entrepôt for Greek and Carthaginian traders in the 6th century bce; Nantes, an industrial centre and deepwater harbour along the Atlantic coast; and Bordeaux, located in southwestern France along the Garonne River. A majestic city known as the ville lumière, or “city of light,” Paris has often been remade, most famously in the mid-19th century under the command of Georges-Eugène, Baron Haussman, who was committed to Napoleon III’s vision of a modern city free of the choleric swamps and congested alleys of old, with broad avenues and a regular plan. Metropolitan Paris has now extended far beyond its ancient suburbs into the countryside, however, and nearly every French town and village now numbers a retiree or two driven from the city by the high cost of living, so that, in a sense, Paris has come to embrace the desert and the desert Paris.\\n France has also been influential in government and civil affairs, giving the world important democratic ideals in the age of the Enlightenment and the French Revolution and inspiring the growth of reformist and even revolutionary movements for generations.'},\n",
              " {'url': 'https://www.britannica.com/facts/Paris',\n",
              "  'content': 'Paris: Facts & Related Content Points Of Interest/Tourist Attractions  Bastille • Place de la Concorde • Eiffel Tower • Louvre Museum • Notre-Dame de Paris • Pompidou Centre • Grand Palais • Jardin des Plantes • Paris Zoo • Père-Lachaise Cemetery • Champs-Élysées • Bibliothèque Nationale de France • Promenade Plantée • Pont Neuf • Musée d\\'Orsay • Picasso Museum • Rodin Museum • Tuileries Palace Why is Paris called \"the City of Light\"? Paris earned its sobriquet \"the City of Light\" (\"la Ville Lumière\") during the Enlightenment, in recognition of its importantance as a centre for education and intellectual pursuits. The earliest evidence for human habitation in what is now the city of Paris dates from about 7600 BCE. When was Paris liberated? The liberation of Paris put an end to four years of German occupation of the city during World War II.'}]"
            ]
          },
          "metadata": {},
          "execution_count": 65
        }
      ]
    },
    {
      "cell_type": "code",
      "source": [
        "tools = [search]"
      ],
      "metadata": {
        "id": "zm0az9Q5Nnbs"
      },
      "execution_count": 66,
      "outputs": []
    },
    {
      "cell_type": "code",
      "source": [
        "prompt = hub.pull(\"hwchase17/openai-functions-agent\")"
      ],
      "metadata": {
        "id": "UzuRcamTN9_2"
      },
      "execution_count": 70,
      "outputs": []
    },
    {
      "cell_type": "code",
      "source": [
        "prompt.messages"
      ],
      "metadata": {
        "colab": {
          "base_uri": "https://localhost:8080/"
        },
        "id": "mtxuZfOBOaVe",
        "outputId": "9b8280bb-e614-4a27-d1d8-ccab053f00ef"
      },
      "execution_count": 73,
      "outputs": [
        {
          "output_type": "execute_result",
          "data": {
            "text/plain": [
              "[SystemMessagePromptTemplate(prompt=PromptTemplate(input_variables=[], input_types={}, partial_variables={}, template='You are a helpful assistant'), additional_kwargs={}),\n",
              " MessagesPlaceholder(variable_name='chat_history', optional=True),\n",
              " HumanMessagePromptTemplate(prompt=PromptTemplate(input_variables=['input'], input_types={}, partial_variables={}, template='{input}'), additional_kwargs={}),\n",
              " MessagesPlaceholder(variable_name='agent_scratchpad')]"
            ]
          },
          "metadata": {},
          "execution_count": 73
        }
      ]
    },
    {
      "cell_type": "code",
      "source": [
        "agent = create_tool_calling_agent(llm,tools,prompt)"
      ],
      "metadata": {
        "id": "-VZ4UiIfNqNZ"
      },
      "execution_count": 72,
      "outputs": []
    },
    {
      "cell_type": "code",
      "source": [
        "agent_executer = AgentExecutor(agent=agent,tools=tools,verbose=True)"
      ],
      "metadata": {
        "id": "WKPLIslcOWFz"
      },
      "execution_count": 75,
      "outputs": []
    },
    {
      "cell_type": "code",
      "source": [
        "agent_executer.invoke({\"input\":\"tell me about yourself\"})"
      ],
      "metadata": {
        "colab": {
          "base_uri": "https://localhost:8080/"
        },
        "id": "2zwpHOMsO3GC",
        "outputId": "c6a41ee8-0968-437c-c1d7-65460a625b29"
      },
      "execution_count": 80,
      "outputs": [
        {
          "output_type": "stream",
          "name": "stdout",
          "text": [
            "\n",
            "\n",
            "\u001b[1m> Entering new AgentExecutor chain...\u001b[0m\n",
            "\u001b[32;1m\u001b[1;3mI'm Gemini, a large language model created by Google.  I can process information and respond to your questions in a helpful and informative way.  I'm still under development, but I'm learning new things all the time.\n",
            "\u001b[0m\n",
            "\n",
            "\u001b[1m> Finished chain.\u001b[0m\n"
          ]
        },
        {
          "output_type": "execute_result",
          "data": {
            "text/plain": [
              "{'input': 'tell me about yourself',\n",
              " 'output': \"I'm Gemini, a large language model created by Google.  I can process information and respond to your questions in a helpful and informative way.  I'm still under development, but I'm learning new things all the time.\\n\"}"
            ]
          },
          "metadata": {},
          "execution_count": 80
        }
      ]
    }
  ]
}