{
  "nbformat": 4,
  "nbformat_minor": 0,
  "metadata": {
    "colab": {
      "provenance": []
    },
    "kernelspec": {
      "name": "python3",
      "display_name": "Python 3"
    },
    "language_info": {
      "name": "python"
    }
  },
  "cells": [
    {
      "cell_type": "code",
      "execution_count": 1,
      "metadata": {
        "id": "P2n5r_MTAzHt"
      },
      "outputs": [],
      "source": [
        "! pip install -q langgraph langchain-core langchain-community langchain-google-genai duckduckgo-search"
      ]
    },
    {
      "cell_type": "code",
      "source": [
        "from langchain_google_genai import ChatGoogleGenerativeAI\n",
        "from google.colab import userdata\n",
        "from langgraph.graph import MessagesState, StateGraph, START, END\n",
        "from langchain_community.tools import DuckDuckGoSearchRun\n",
        "from langgraph.prebuilt import tools_condition, ToolNode\n",
        "from langchain_core.messages import SystemMessage, HumanMessage\n",
        "from langgraph.graph import add_messages\n",
        "from typing import TypedDict, Annotated\n",
        "import yfinance as yf\n",
        "import os"
      ],
      "metadata": {
        "id": "s5qZ7naLA-k3"
      },
      "execution_count": 2,
      "outputs": []
    },
    {
      "cell_type": "code",
      "source": [
        "GOOGLE_API_KEY = userdata.get('GOOGLE_API_KEY')\n",
        "os.environ[\"GOOGLE_API_KEY\"] = GOOGLE_API_KEY"
      ],
      "metadata": {
        "id": "dANnlzkuDdH7"
      },
      "execution_count": 3,
      "outputs": []
    },
    {
      "cell_type": "code",
      "source": [
        "def multiply(a:int,b:int) -> int:\n",
        "  '''\n",
        "  a: int\n",
        "  b: int\n",
        "  return multiplication of a and b\n",
        "  '''\n",
        "  return a * b\n",
        "\n",
        "\n",
        "def add(a:int,b:int) -> int:\n",
        "  '''\n",
        "  a: int\n",
        "  b: int\n",
        "  return addition of a and b\n",
        "  '''\n",
        "  return a + b\n",
        "\n",
        "def divide(a:int,b:int) -> int:\n",
        "  '''\n",
        "  a: int\n",
        "  b: int\n",
        "  return divide of a and b\n",
        "  '''\n",
        "  return a / b\n",
        "\n",
        "def subtract(a:int,b:int) -> int:\n",
        "  '''\n",
        "  a: int\n",
        "  b: int\n",
        "  return subtraction of a and b\n",
        "  '''\n",
        "  return a - b"
      ],
      "metadata": {
        "id": "oMOFw7FvDnuT"
      },
      "execution_count": 4,
      "outputs": []
    },
    {
      "cell_type": "code",
      "source": [
        "search = DuckDuckGoSearchRun()"
      ],
      "metadata": {
        "id": "RTdwBmN7Ea7n"
      },
      "execution_count": 5,
      "outputs": []
    },
    {
      "cell_type": "code",
      "source": [
        "search.invoke(\"Who is current president of USA\")"
      ],
      "metadata": {
        "colab": {
          "base_uri": "https://localhost:8080/",
          "height": 109
        },
        "id": "wnm5IixTEfN9",
        "outputId": "52234013-e649-444d-9ecd-53377384ecde"
      },
      "execution_count": 6,
      "outputs": [
        {
          "output_type": "execute_result",
          "data": {
            "text/plain": [
              "\"The White House, official residence of the president of the United States, in July 2008. The president of the United States is the head of state and head of government of the United States, [1] indirectly elected to a four-year term via the Electoral College. [2] Under the U.S. Constitution, the officeholder leads the executive branch of the federal government and is the commander-in-chief of ... As the head of the government of the United States, the president is arguably the most powerful government official in the world. The president is elected to a four-year term via an electoral college system. Since the Twenty-second Amendment was adopted in 1951, the American presidency has been limited to a maximum of two terms.. Click on a president below to learn more about each presidency ... The president of the United States is the: U.S. head of state; Chief executive of the federal government; Commander-in-Chief of the armed forces; Current president. The 47th and current president of the United States is Donald John Trump. He was sworn into office on January 20, 2025. Former U.S. presidents. The United States has had 46 former U ... Donald Trump has officially become the 47th president of the United States. In a special ceremony called an inauguration , President Trump took over from Joe Biden as America's new leader. WASHINGTON − Donald Trump was sworn in Monday as the 47th president of the United States, returning to the White House after overcoming four criminal indictments and two assassination attempts ...\""
            ],
            "application/vnd.google.colaboratory.intrinsic+json": {
              "type": "string"
            }
          },
          "metadata": {},
          "execution_count": 6
        }
      ]
    },
    {
      "cell_type": "code",
      "source": [
        "tools = [add,multiply,divide,subtract,search]"
      ],
      "metadata": {
        "id": "Z1jDbq2eEmVm"
      },
      "execution_count": 7,
      "outputs": []
    },
    {
      "cell_type": "code",
      "source": [
        "llm = ChatGoogleGenerativeAI(model=\"gemini-2.0-flash\")\n",
        "llm"
      ],
      "metadata": {
        "colab": {
          "base_uri": "https://localhost:8080/"
        },
        "id": "5U3AnoRLE2_Y",
        "outputId": "6a8b1c03-0514-4a02-9dcc-0b795336aaa3"
      },
      "execution_count": 8,
      "outputs": [
        {
          "output_type": "execute_result",
          "data": {
            "text/plain": [
              "ChatGoogleGenerativeAI(model='models/gemini-2.0-flash', google_api_key=SecretStr('**********'), client=<google.ai.generativelanguage_v1beta.services.generative_service.client.GenerativeServiceClient object at 0x79f0c2e817d0>, default_metadata=())"
            ]
          },
          "metadata": {},
          "execution_count": 8
        }
      ]
    },
    {
      "cell_type": "code",
      "source": [
        "llm_with_tools = llm.bind_tools(tools)"
      ],
      "metadata": {
        "id": "3DCxJLCKE9Q8"
      },
      "execution_count": 9,
      "outputs": []
    },
    {
      "cell_type": "code",
      "source": [
        "system_message = '''\n",
        "You are a helpful assistant tasked with using search and performing arithmetic on a set of inputs.\n",
        "'''"
      ],
      "metadata": {
        "id": "lHVAZ-apFBqV"
      },
      "execution_count": 10,
      "outputs": []
    },
    {
      "cell_type": "code",
      "source": [
        "def reasoner(state:MessagesState):\n",
        "  return {\"messages\":llm_with_tools.invoke([system_message] + state[\"messages\"])}"
      ],
      "metadata": {
        "id": "ZTcPxSR-FPy5"
      },
      "execution_count": 11,
      "outputs": []
    },
    {
      "cell_type": "code",
      "source": [
        "workflow = StateGraph(MessagesState)\n",
        "\n",
        "workflow.add_node(\"reasoner\",reasoner)\n",
        "workflow.add_node(\"tools\",ToolNode(tools))\n",
        "\n",
        "workflow.add_edge(START,\"reasoner\")\n",
        "workflow.add_conditional_edges(\n",
        "    \"reasoner\",\n",
        "    tools_condition\n",
        ")\n",
        "workflow.add_edge(\"tools\",\"reasoner\")\n",
        "\n",
        "graph = workflow.compile()\n",
        "graph"
      ],
      "metadata": {
        "colab": {
          "base_uri": "https://localhost:8080/",
          "height": 266
        },
        "id": "3I7o8ut2Fhyd",
        "outputId": "ead0980e-bbdd-45e0-cffa-60478aca9fc3"
      },
      "execution_count": 12,
      "outputs": [
        {
          "output_type": "execute_result",
          "data": {
            "text/plain": [
              "<langgraph.graph.state.CompiledStateGraph object at 0x79f0b9459290>"
            ],
            "image/png": "[encoded data removed]"
          },
          "metadata": {},
          "execution_count": 12
        }
      ]
    },
    {
      "cell_type": "code",
      "source": [
        "messages = graph.invoke({\"messages\":\"What is 2 times of Narendra Modi age\"})\n",
        "\n",
        "for m in messages[\"messages\"]:\n",
        "  m.pretty_print()"
      ],
      "metadata": {
        "colab": {
          "base_uri": "https://localhost:8080/"
        },
        "id": "jxY5ZDFrGGCN",
        "outputId": "7280166d-81fa-4971-c936-045dad9946f5"
      },
      "execution_count": 13,
      "outputs": [
        {
          "output_type": "stream",
          "name": "stdout",
          "text": [
            "================================\u001b[1m Human Message \u001b[0m=================================\n",
            "\n",
            "What is 2 times of Narendra Modi age\n",
            "==================================\u001b[1m Ai Message \u001b[0m==================================\n",
            "Tool Calls:\n",
            "  duckduckgo_search (4ecd9f47-93a2-4f75-a15d-402e31c06b77)\n",
            " Call ID: 4ecd9f47-93a2-4f75-a15d-402e31c06b77\n",
            "  Args:\n",
            "    query: Narendra Modi age\n",
            "=================================\u001b[1m Tool Message \u001b[0m=================================\n",
            "Name: duckduckgo_search\n",
            "\n",
            "Narendra Modi is the prime minister of India since 2014 and a leader of the BJP. He was born on September 17, 1950, in Vadnagar, India, and is a member of the RSS. Learn about the life and achievements of Narendra Modi, the current Prime Minister of India, who was born on September 17, 1950, in Gujarat. Find out his full name, education, political journey, and role in the BJP and RSS. List of all Prime Ministers of India till 2025: Narendra Modi is the current and 14th Prime Minister of India who assumed office on 10 June 2024. Jawaharlal Nehru is the first and the longest ... After releasing them into their wild, Modi also clicked their pictures. 2021: As part of efforts to tackle the Covid-19 pandemic, a record 2.26 vaccines were administered in a single day. Narendra Modi was born into a humble family of the Modh-Ghanchi-Teli caste, categorized as OBC in India. As a child, Modi helped his father sell tea at a railway station, which is a story he has often recounted to inspire others. At a young age, Modi was drawn toward spirituality.\n",
            "==================================\u001b[1m Ai Message \u001b[0m==================================\n",
            "\n",
            "Narendra Modi was born on September 17, 1950. So, as of November 2, 2024, he is 74 years old.\n",
            "Tool Calls:\n",
            "  multiply (efcb1633-7769-4ac8-ba52-f77a7c4e22a8)\n",
            " Call ID: efcb1633-7769-4ac8-ba52-f77a7c4e22a8\n",
            "  Args:\n",
            "    a: 2.0\n",
            "    b: 74.0\n",
            "=================================\u001b[1m Tool Message \u001b[0m=================================\n",
            "Name: multiply\n",
            "\n",
            "148\n",
            "==================================\u001b[1m Ai Message \u001b[0m==================================\n",
            "\n",
            "Narendra Modi is 74 years old. 2 times his age is 148.\n"
          ]
        }
      ]
    },
    {
      "cell_type": "code",
      "source": [
        "messages = graph.invoke({\"messages\":\"Add Elon Musk and Sundar Pichai Age\"})\n",
        "\n",
        "for m in messages[\"messages\"]:\n",
        "  m.pretty_print()"
      ],
      "metadata": {
        "colab": {
          "base_uri": "https://localhost:8080/"
        },
        "id": "70vJSVelGpG4",
        "outputId": "4f4bfa9f-8689-40e9-82a0-8777a664af55"
      },
      "execution_count": 14,
      "outputs": [
        {
          "output_type": "stream",
          "name": "stdout",
          "text": [
            "================================\u001b[1m Human Message \u001b[0m=================================\n",
            "\n",
            "Add Elon Musk and Sundar Pichai Age\n",
            "==================================\u001b[1m Ai Message \u001b[0m==================================\n",
            "Tool Calls:\n",
            "  duckduckgo_search (21b9baa9-d3d4-4bc0-b7bd-cc615e8f19b1)\n",
            " Call ID: 21b9baa9-d3d4-4bc0-b7bd-cc615e8f19b1\n",
            "  Args:\n",
            "    query: Elon Musk age\n",
            "  duckduckgo_search (9918e0e6-bf6f-47c7-af98-e2318c34a988)\n",
            " Call ID: 9918e0e6-bf6f-47c7-af98-e2318c34a988\n",
            "  Args:\n",
            "    query: Sundar Pichai age\n",
            "=================================\u001b[1m Tool Message \u001b[0m=================================\n",
            "Name: duckduckgo_search\n",
            "\n",
            "At age 17, in 1988, Elon moved to Canada against his parents' wishes to attend university and avoid mandatory service in the South African military. ... \"Elon Musk is a once in a generation ... #1 Elon Musk on the 2024 Forbes 400 #1 Elon Musk on the 2024 Forbes 400. Subscribe To Newsletters. ... Age 53 Source of Wealth Tesla, SpaceX, Self Made Self-Made Score 8 Philanthropy Score 1 Elon Musk became a millionaire at the age of 28. By Chrissy Bobic. Published Feb. 19 2025, 1:42 p.m. ET. Source: Mega. He might hold the title of the richest man in the world, but what people really want to know is if Elon Musk was born rich. There is no denying his untouchable wealth after years in the tech and aerospace businesses. Elon Musk Age & Birthday. Elon Musk is best known as Entrepreneur who has born on June 28, 1971 in Pretoria, South Africa. Currently, Elon Musk is 53 years, 7 months and 28 days old. Zilis and Musk also share twins, Strider and Azure, 3, and daughter Arcadia, 1 Elon Musk and Shivon Zilis have welcomed their fourth child together. Zilis made the announcement in an X post ...\n",
            "=================================\u001b[1m Tool Message \u001b[0m=================================\n",
            "Name: duckduckgo_search\n",
            "\n",
            "Sundar Pichai is the CEO of Google and Alphabet, born on 10 June 1972 in Madurai, India. He studied at IIT Kharagpur, Stanford and Wharton, and received the Padma Bhushan award in 2022. Google CEO Sundar Pichai has turned 52 today. The Indian-origin tech billionaire was born on June 10, 1972 in Madurai, Tamil Nadu. The Indian-origin tech billionaire was born on June 10, 1972 in ... Sundar Pichai was born on June 10, 1972, in Madurai, India. He grew up in a middle-class family. His father was an electrical engineer, and his mother was a stenographer. From a young age, Pichai displayed a keen interest in technology. He excelled in academics, particularly in math and science. Pichai attended Jawahar Vidyalaya, a school in ... Sundar Pichai was born on July 12, 1972, in Madurai, Tamil Nadu, India. From an early age, Pichai displayed a keen interest in technology and engineering, which led him to pursue a degree in Metallurgical Engineering from the Indian Institute of Technology (IIT) Kharagpur. Age: 49: Citizenship: The United States of America: Education: Indian Institute of Technology, Kharagpur (B.Tech.), Stanford University (MS), University of Pennsylvania (MBA) Title: ... Sundar Pichai, born Sundar Pichai Sundararajan on June 10, 1972 in Madurai, Tamil Nadu, India, is known through his work in technology and great leadership. ...\n",
            "==================================\u001b[1m Ai Message \u001b[0m==================================\n",
            "\n",
            "Elon Musk is 53 years old and Sundar Pichai is 52 years old.\n",
            "Tool Calls:\n",
            "  add (17190851-103b-430d-8208-02f9a751e4d1)\n",
            " Call ID: 17190851-103b-430d-8208-02f9a751e4d1\n",
            "  Args:\n",
            "    a: 53.0\n",
            "    b: 52.0\n",
            "=================================\u001b[1m Tool Message \u001b[0m=================================\n",
            "Name: add\n",
            "\n",
            "105\n",
            "==================================\u001b[1m Ai Message \u001b[0m==================================\n",
            "\n",
            "Elon Musk is 53 and Sundar Pichai is 52, so their combined age is 105.\n"
          ]
        }
      ]
    },
    {
      "cell_type": "code",
      "source": [
        "def get_stock_price(stock_name:str) -> float:\n",
        "  '''\n",
        "  Get Stock Price from Yahoo Finance\n",
        "  '''\n",
        "  stock = yf.Ticker(stock_name)\n",
        "  return stock.info[\"previousClose\"]"
      ],
      "metadata": {
        "id": "zn-82iAbHTaI"
      },
      "execution_count": 15,
      "outputs": []
    },
    {
      "cell_type": "code",
      "source": [
        "get_stock_price(\"AAPL\")"
      ],
      "metadata": {
        "colab": {
          "base_uri": "https://localhost:8080/"
        },
        "id": "Km9F-jiLII3v",
        "outputId": "21c9095b-531e-4e24-8248-c002aee95807"
      },
      "execution_count": 16,
      "outputs": [
        {
          "output_type": "execute_result",
          "data": {
            "text/plain": [
              "237.3"
            ]
          },
          "metadata": {},
          "execution_count": 16
        }
      ]
    },
    {
      "cell_type": "code",
      "source": [
        "tools = [add,multiply,divide,subtract,search,get_stock_price]"
      ],
      "metadata": {
        "id": "Rhx4ncYMIzuu"
      },
      "execution_count": 17,
      "outputs": []
    },
    {
      "cell_type": "code",
      "source": [
        "llm_with_tools = llm.bind_tools(tools)"
      ],
      "metadata": {
        "id": "4gx5tbYxIvmk"
      },
      "execution_count": 18,
      "outputs": []
    },
    {
      "cell_type": "code",
      "source": [
        "def reasoner(state):\n",
        "    query = state[\"query\"]\n",
        "    messages = state[\"messages\"]\n",
        "    # System message\n",
        "    sys_msg = SystemMessage(content=\"You are a helpful assistant tasked with using search mixed with the yahoo finance tool and performing arithmetic on a set of inputs.\")\n",
        "    message = HumanMessage(content=query)\n",
        "    messages.append(message)\n",
        "    result = [llm_with_tools.invoke([sys_msg] + messages)]\n",
        "    return {\"messages\":result}"
      ],
      "metadata": {
        "id": "PMDVDON9IKnJ"
      },
      "execution_count": 19,
      "outputs": []
    },
    {
      "cell_type": "code",
      "source": [
        "class GraphState(TypedDict):\n",
        "  query:str\n",
        "  finance: str\n",
        "  final_answer:str\n",
        "  messages: Annotated[list,add_messages]"
      ],
      "metadata": {
        "id": "aIzdm11cJVbq"
      },
      "execution_count": 20,
      "outputs": []
    },
    {
      "cell_type": "code",
      "source": [
        "workflow = StateGraph(GraphState)\n",
        "\n",
        "workflow.add_node(\"reasoner\",reasoner)\n",
        "workflow.add_node(\"tools\",ToolNode(tools))\n",
        "\n",
        "workflow.add_edge(START,\"reasoner\")\n",
        "workflow.add_conditional_edges(\n",
        "    \"reasoner\",\n",
        "    tools_condition\n",
        ")\n",
        "workflow.add_edge(\"tools\",\"reasoner\")\n",
        "\n",
        "graph = workflow.compile()\n",
        "graph"
      ],
      "metadata": {
        "colab": {
          "base_uri": "https://localhost:8080/",
          "height": 266
        },
        "id": "atKPpSDKJz4S",
        "outputId": "aaa1855d-8696-48e1-c779-11677a7767e4"
      },
      "execution_count": 21,
      "outputs": [
        {
          "output_type": "execute_result",
          "data": {
            "text/plain": [
              "<langgraph.graph.state.CompiledStateGraph object at 0x79f0b812b790>"
            ],
            "image/png": "[encoded data removed]"
          },
          "metadata": {},
          "execution_count": 21
        }
      ]
    },
    {
      "cell_type": "code",
      "source": [
        "response = graph.invoke({\"query\": \"What is the stock price of AAPL add 1000?\"})\n",
        "\n",
        "for m in response[\"messages\"]:\n",
        "  m.pretty_print()"
      ],
      "metadata": {
        "colab": {
          "base_uri": "https://localhost:8080/"
        },
        "id": "JVQjYC4nKDoe",
        "outputId": "5f79a0bd-58dc-4407-a7a5-71b92d4de4d0"
      },
      "execution_count": 24,
      "outputs": [
        {
          "output_type": "stream",
          "name": "stdout",
          "text": [
            "================================\u001b[1m Human Message \u001b[0m=================================\n",
            "\n",
            "What is the stock price of AAPL add 1000?\n",
            "==================================\u001b[1m Ai Message \u001b[0m==================================\n",
            "Tool Calls:\n",
            "  get_stock_price (c631a40f-d751-41ba-a492-3475860cdf85)\n",
            " Call ID: c631a40f-d751-41ba-a492-3475860cdf85\n",
            "  Args:\n",
            "    stock_name: AAPL\n",
            "=================================\u001b[1m Tool Message \u001b[0m=================================\n",
            "Name: get_stock_price\n",
            "\n",
            "237.3\n",
            "================================\u001b[1m Human Message \u001b[0m=================================\n",
            "\n",
            "What is the stock price of AAPL add 1000?\n",
            "==================================\u001b[1m Ai Message \u001b[0m==================================\n",
            "Tool Calls:\n",
            "  add (511f927a-c3cf-4727-9e73-b82079b493c2)\n",
            " Call ID: 511f927a-c3cf-4727-9e73-b82079b493c2\n",
            "  Args:\n",
            "    a: 237.0\n",
            "    b: 1000.0\n",
            "=================================\u001b[1m Tool Message \u001b[0m=================================\n",
            "Name: add\n",
            "\n",
            "1237\n",
            "================================\u001b[1m Human Message \u001b[0m=================================\n",
            "\n",
            "What is the stock price of AAPL add 1000?\n",
            "==================================\u001b[1m Ai Message \u001b[0m==================================\n",
            "\n",
            "The current stock price of AAPL is 237. Adding 1000 to that gives us 1237.\n"
          ]
        }
      ]
    }
  ]
}