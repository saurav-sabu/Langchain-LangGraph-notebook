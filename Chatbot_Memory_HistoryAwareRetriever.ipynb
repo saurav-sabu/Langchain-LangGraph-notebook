{
  "nbformat": 4,
  "nbformat_minor": 0,
  "metadata": {
    "colab": {
      "provenance": []
    },
    "kernelspec": {
      "name": "python3",
      "display_name": "Python 3"
    },
    "language_info": {
      "name": "python"
    }
  },
  "cells": [
    {
      "cell_type": "code",
      "execution_count": 1,
      "metadata": {
        "id": "KeKauFL1p4tO"
      },
      "outputs": [],
      "source": [
        "! pip install -q langchain-core langchain-community langchain-google-genai beautifulsoup4 faiss-cpu"
      ]
    },
    {
      "cell_type": "code",
      "source": [
        "from google.colab import userdata\n",
        "import os\n",
        "from langchain_google_genai import ChatGoogleGenerativeAI, GoogleGenerativeAIEmbeddings\n",
        "import bs4\n",
        "from langchain import hub\n",
        "from langchain.chains import create_retrieval_chain\n",
        "from langchain.chains.combine_documents import create_stuff_documents_chain\n",
        "from langchain_community.vectorstores import FAISS\n",
        "from langchain_community.document_loaders import WebBaseLoader\n",
        "from langchain_text_splitters import RecursiveCharacterTextSplitter\n",
        "from langchain_core.prompts import ChatPromptTemplate,MessagesPlaceholder\n",
        "from langchain.chains import create_history_aware_retriever\n",
        "from langchain_core.messages import HumanMessage,AIMessage\n",
        "\n",
        "from langchain_community.chat_message_histories import ChatMessageHistory\n",
        "from langchain_core.chat_history import BaseChatMessageHistory\n",
        "from langchain_core.runnables.history import RunnableWithMessageHistory"
      ],
      "metadata": {
        "colab": {
          "base_uri": "https://localhost:8080/"
        },
        "id": "6dwhJzpNgk99",
        "outputId": "e10a7f34-e205-4543-a8b1-e282805383e1"
      },
      "execution_count": 2,
      "outputs": [
        {
          "output_type": "stream",
          "name": "stderr",
          "text": [
            "WARNING:langchain_community.utils.user_agent:USER_AGENT environment variable not set, consider setting it to identify your requests.\n"
          ]
        }
      ]
    },
    {
      "cell_type": "code",
      "source": [
        "GOOGLE_API_KEY = userdata.get('GOOGLE_API_KEY')\n",
        "LANGCHAIN_API_KEY = userdata.get('LANGCHAIN_API_KEY')\n",
        "LANGCHAIN_PROJECT = userdata.get('LANGCHAIN_PROJECT')"
      ],
      "metadata": {
        "id": "0GmuvURMgn62"
      },
      "execution_count": 3,
      "outputs": []
    },
    {
      "cell_type": "code",
      "source": [
        "os.environ['GOOGLE_API_KEY'] = GOOGLE_API_KEY\n",
        "os.environ['LANGCHAIN_API_KEY'] = LANGCHAIN_API_KEY\n",
        "os.environ['LANGCHAIN_PROJECT'] = LANGCHAIN_PROJECT\n",
        "os.environ['LANGCHAIN_TRACING_V2'] = \"true\""
      ],
      "metadata": {
        "id": "iQg5icaag1q8"
      },
      "execution_count": 4,
      "outputs": []
    },
    {
      "cell_type": "code",
      "source": [
        "embedding = GoogleGenerativeAIEmbeddings(model=\"models/embedding-001\")"
      ],
      "metadata": {
        "id": "6I-eZHp6hHtP"
      },
      "execution_count": 5,
      "outputs": []
    },
    {
      "cell_type": "code",
      "source": [
        "model = ChatGoogleGenerativeAI(model=\"gemini-1.5-flash\")"
      ],
      "metadata": {
        "id": "rtbppqtohRLO"
      },
      "execution_count": 6,
      "outputs": []
    },
    {
      "cell_type": "code",
      "source": [
        "model.invoke(\"Hi\").content"
      ],
      "metadata": {
        "colab": {
          "base_uri": "https://localhost:8080/",
          "height": 36
        },
        "id": "L-ChAErYhVwj",
        "outputId": "3d8a9d42-0cd9-4b45-9127-0066fe795dea"
      },
      "execution_count": 7,
      "outputs": [
        {
          "output_type": "execute_result",
          "data": {
            "text/plain": [
              "'Hi there! How can I help you today?'"
            ],
            "application/vnd.google.colaboratory.intrinsic+json": {
              "type": "string"
            }
          },
          "metadata": {},
          "execution_count": 7
        }
      ]
    },
    {
      "cell_type": "code",
      "source": [
        "loader = WebBaseLoader(web_paths=(\"https://en.wikipedia.org/wiki/Artificial_intelligence\",),bs_kwargs={\"parse_only\":bs4.SoupStrainer(\"p\"),})"
      ],
      "metadata": {
        "id": "CQJZ7ns8hptW"
      },
      "execution_count": 8,
      "outputs": []
    },
    {
      "cell_type": "code",
      "source": [
        "doc = loader.load()"
      ],
      "metadata": {
        "id": "FvzxuiLsijg0"
      },
      "execution_count": 9,
      "outputs": []
    },
    {
      "cell_type": "code",
      "source": [
        "splitter = RecursiveCharacterTextSplitter(chunk_size=1000,chunk_overlap=200)\n",
        "chunks = splitter.split_documents(doc)"
      ],
      "metadata": {
        "id": "KZc94E2Sispp"
      },
      "execution_count": 10,
      "outputs": []
    },
    {
      "cell_type": "code",
      "source": [
        "vector_store = FAISS.from_documents(chunks, embedding)\n",
        "retriever = vector_store.as_retriever()"
      ],
      "metadata": {
        "id": "MwYUEzDRi5kK"
      },
      "execution_count": 11,
      "outputs": []
    },
    {
      "cell_type": "code",
      "source": [
        "system_prompt = '''\n",
        "You are helpful assistant which can answer any queston related to artificial intelligense\n",
        "{context}\n",
        "'''"
      ],
      "metadata": {
        "id": "svtjShlHjAsH"
      },
      "execution_count": 12,
      "outputs": []
    },
    {
      "cell_type": "code",
      "source": [
        "chat_prompt = ChatPromptTemplate.from_messages(\n",
        "    [\n",
        "        (\"system\",system_prompt),\n",
        "        (\"user\",\"{input}\")\n",
        "    ]\n",
        ")"
      ],
      "metadata": {
        "id": "RBv77xvpjY1a"
      },
      "execution_count": 13,
      "outputs": []
    },
    {
      "cell_type": "code",
      "source": [
        "question_answering_chain = create_stuff_documents_chain(model,chat_prompt)"
      ],
      "metadata": {
        "id": "UKAaGtCQjtyY"
      },
      "execution_count": 14,
      "outputs": []
    },
    {
      "cell_type": "code",
      "source": [
        "rag_chain = create_retrieval_chain(retriever,question_answering_chain)"
      ],
      "metadata": {
        "id": "C6EpqoLykYnE"
      },
      "execution_count": 15,
      "outputs": []
    },
    {
      "cell_type": "code",
      "source": [
        "response = rag_chain.invoke({\"input\":\"What is artificial intelligence?\"})"
      ],
      "metadata": {
        "id": "fD0FZZo6kayY"
      },
      "execution_count": 16,
      "outputs": []
    },
    {
      "cell_type": "code",
      "source": [
        "response[\"answer\"]"
      ],
      "metadata": {
        "colab": {
          "base_uri": "https://localhost:8080/",
          "height": 90
        },
        "id": "pJ7SDtB1kvMd",
        "outputId": "b2e6ecd9-e949-451c-804a-2fb8426877e6"
      },
      "execution_count": 17,
      "outputs": [
        {
          "output_type": "execute_result",
          "data": {
            "text/plain": [
              "\"Artificial intelligence (AI), in its broadest sense, is intelligence demonstrated by machines, particularly computer systems.  It's a field of computer science focused on developing methods and software that allow machines to perceive their environment, learn from experience, and take actions to achieve defined goals.  These machines, capable of exhibiting AI, are often referred to as AIs.\""
            ],
            "application/vnd.google.colaboratory.intrinsic+json": {
              "type": "string"
            }
          },
          "metadata": {},
          "execution_count": 17
        }
      ]
    },
    {
      "cell_type": "code",
      "source": [
        "retriever_prompt = (\n",
        "    \"Given a chat history and the latest user question which might reference context in the chat history,\"\n",
        "    \"formulate a standalone question which can be understood without the chat history.\"\n",
        "    \"Do NOT answer the question, just reformulate it if needed and otherwise return it as is.\"\n",
        ")"
      ],
      "metadata": {
        "id": "0OyF64XUkja5"
      },
      "execution_count": 18,
      "outputs": []
    },
    {
      "cell_type": "code",
      "source": [
        "contextualize_q_prompt  = ChatPromptTemplate.from_messages(\n",
        "    [\n",
        "        (\"system\", retriever_prompt),\n",
        "        MessagesPlaceholder(variable_name=\"chat_history\"),\n",
        "        (\"human\", \"{input}\"),\n",
        "     ]\n",
        ")"
      ],
      "metadata": {
        "id": "gSGQP8tbm7cB"
      },
      "execution_count": 19,
      "outputs": []
    },
    {
      "cell_type": "code",
      "source": [
        "history_aware_retriever = create_history_aware_retriever(model,retriever,contextualize_q_prompt)"
      ],
      "metadata": {
        "id": "AOA6E5JknAYU"
      },
      "execution_count": 20,
      "outputs": []
    },
    {
      "cell_type": "code",
      "source": [
        "qa_prompt = ChatPromptTemplate.from_messages(\n",
        "    [\n",
        "        (\"system\", system_prompt),\n",
        "        MessagesPlaceholder(\"chat_history\"),\n",
        "        (\"human\", \"{input}\"),\n",
        "    ]\n",
        ")"
      ],
      "metadata": {
        "id": "4Et2NeJtnkZy"
      },
      "execution_count": 21,
      "outputs": []
    },
    {
      "cell_type": "code",
      "source": [
        "question_answer_chain = create_stuff_documents_chain(model, qa_prompt)\n"
      ],
      "metadata": {
        "id": "wHH85KQdnnFZ"
      },
      "execution_count": 22,
      "outputs": []
    },
    {
      "cell_type": "code",
      "source": [
        "rag_chain = create_retrieval_chain(history_aware_retriever, question_answer_chain)\n"
      ],
      "metadata": {
        "id": "LeWVR7LUnoaC"
      },
      "execution_count": 23,
      "outputs": []
    },
    {
      "cell_type": "code",
      "source": [
        "chat_history = []"
      ],
      "metadata": {
        "id": "REWeFw1Prk8b"
      },
      "execution_count": 24,
      "outputs": []
    },
    {
      "cell_type": "code",
      "source": [
        "question=\"What is artificial intelligence\""
      ],
      "metadata": {
        "id": "2nEWzHzSrgwb"
      },
      "execution_count": 25,
      "outputs": []
    },
    {
      "cell_type": "code",
      "source": [
        "response1 = rag_chain.invoke({\"input\": question, \"chat_history\": chat_history})\n",
        "response1[\"answer\"]"
      ],
      "metadata": {
        "colab": {
          "base_uri": "https://localhost:8080/",
          "height": 108
        },
        "id": "NY42wFzkrmkx",
        "outputId": "4aba8789-1af7-4521-e119-1b78ef5ad267"
      },
      "execution_count": 26,
      "outputs": [
        {
          "output_type": "execute_result",
          "data": {
            "text/plain": [
              "\"Artificial intelligence (AI), in its broadest sense, is intelligence exhibited by machines, particularly computer systems.  It's a field of computer science focused on developing methods and software that allow machines to perceive their environment, learn from experience, and take actions to achieve defined goals.  This involves creating systems that can mimic human cognitive functions like learning, problem-solving, and decision-making.  While the definition can be broad, the core idea is creating machines capable of intelligent behavior.\""
            ],
            "application/vnd.google.colaboratory.intrinsic+json": {
              "type": "string"
            }
          },
          "metadata": {},
          "execution_count": 26
        }
      ]
    },
    {
      "cell_type": "code",
      "source": [
        "chat_history.extend(\n",
        "    [\n",
        "        HumanMessage(content=question),\n",
        "        AIMessage(content=response1[\"answer\"]),\n",
        "    ]\n",
        ")"
      ],
      "metadata": {
        "id": "FvJVx_kfrs52"
      },
      "execution_count": 27,
      "outputs": []
    },
    {
      "cell_type": "code",
      "source": [
        "chat_history"
      ],
      "metadata": {
        "colab": {
          "base_uri": "https://localhost:8080/"
        },
        "id": "utvkELM7r5_U",
        "outputId": "2878818e-8807-4b4e-beab-9fcac3a04250"
      },
      "execution_count": 28,
      "outputs": [
        {
          "output_type": "execute_result",
          "data": {
            "text/plain": [
              "[HumanMessage(content='What is artificial intelligence', additional_kwargs={}, response_metadata={}),\n",
              " AIMessage(content=\"Artificial intelligence (AI), in its broadest sense, is intelligence exhibited by machines, particularly computer systems.  It's a field of computer science focused on developing methods and software that allow machines to perceive their environment, learn from experience, and take actions to achieve defined goals.  This involves creating systems that can mimic human cognitive functions like learning, problem-solving, and decision-making.  While the definition can be broad, the core idea is creating machines capable of intelligent behavior.\", additional_kwargs={}, response_metadata={})]"
            ]
          },
          "metadata": {},
          "execution_count": 28
        }
      ]
    },
    {
      "cell_type": "code",
      "source": [
        "question2 = \"types of artificial intelligence\""
      ],
      "metadata": {
        "id": "5FBqo282r7Bc"
      },
      "execution_count": 29,
      "outputs": []
    },
    {
      "cell_type": "code",
      "source": [
        "response2 = rag_chain.invoke({\"input\": question2, \"chat_history\": chat_history})\n",
        "response2[\"answer\"]"
      ],
      "metadata": {
        "colab": {
          "base_uri": "https://localhost:8080/",
          "height": 181
        },
        "id": "ARDoZDxTsIhn",
        "outputId": "df07d2ac-21cf-4251-c23f-ed32600c5bd9"
      },
      "execution_count": 30,
      "outputs": [
        {
          "output_type": "execute_result",
          "data": {
            "text/plain": [
              "\"There are several ways to categorize types of artificial intelligence, and the lines between them can be blurry.  Here are a few common classifications:\\n\\n**Based on Capability:**\\n\\n* **Narrow or Weak AI:** This is the most common type of AI today.  It's designed to perform a specific task, like playing chess, recommending products, or recognizing faces.  It excels at its designated task but lacks general intelligence or the ability to adapt to new situations outside its programming.  Examples include Siri, Alexa, and spam filters.\\n\\n* **General or Strong AI:** This hypothetical type of AI possesses human-level intelligence and can perform any intellectual task that a human being can.  It would be capable of learning, reasoning, problem-solving, and adapting to new situations across a wide range of domains.  General AI does not currently exist.\\n\\n* **Super AI:** This is a hypothetical AI that surpasses human intelligence in all aspects.  It's a concept often explored in science fiction, and its potential capabilities and implications are largely speculative.\\n\\n\\n**Based on Functionality:**\\n\\n* **Reactive Machines:** These AI systems react to inputs directly without memory or learning capabilities.  Deep Blue, IBM's chess-playing computer, is a prime example. It could analyze the current board state and respond accordingly but couldn't learn from past games.\\n\\n* **Limited Memory:** These systems can use past experiences to inform future decisions.  Self-driving cars, for example, use this type of AI to learn from past driving experiences and adapt their behavior.\\n\\n* **Theory of Mind:** This is a future level of AI that would understand and respond to human emotions, beliefs, and intentions. This type of AI doesn't yet exist.\\n\\n* **Self-Aware:** This is the highest level of AI, where the system possesses consciousness and self-awareness. This is purely hypothetical at this point.\\n\\n\\nIt's important to note that the field of AI is constantly evolving, and new classifications and approaches are continuously emerging.  The terms and distinctions used might vary depending on the context and the specific researcher or publication.\""
            ],
            "application/vnd.google.colaboratory.intrinsic+json": {
              "type": "string"
            }
          },
          "metadata": {},
          "execution_count": 30
        }
      ]
    },
    {
      "cell_type": "code",
      "source": [
        "store = {}\n",
        "\n",
        "def get_session_history(session_id: str) -> BaseChatMessageHistory:\n",
        "    if session_id not in store:\n",
        "        store[session_id] = ChatMessageHistory()\n",
        "    return store[session_id]"
      ],
      "metadata": {
        "id": "Aie84bCRsLIV"
      },
      "execution_count": 31,
      "outputs": []
    },
    {
      "cell_type": "code",
      "source": [
        "conversational_rag_chain = RunnableWithMessageHistory(\n",
        "    rag_chain,\n",
        "    get_session_history,\n",
        "    input_messages_key=\"input\",\n",
        "    history_messages_key=\"chat_history\",\n",
        "    output_messages_key=\"answer\",\n",
        ")"
      ],
      "metadata": {
        "id": "X09Eewf0s_eG"
      },
      "execution_count": 32,
      "outputs": []
    },
    {
      "cell_type": "code",
      "source": [
        "conversational_rag_chain.invoke(\n",
        "    {\"input\": \"applications of ai\"},\n",
        "    config={\n",
        "        \"configurable\": {\"session_id\": \"abc123\"}\n",
        "    },  # constructs a key \"abc123\" in `store`.\n",
        ")[\"answer\"]"
      ],
      "metadata": {
        "colab": {
          "base_uri": "https://localhost:8080/",
          "height": 181
        },
        "id": "8hcdT-fPtGqx",
        "outputId": "99f0bd74-cbba-4eae-cc36-2e7a66c322a5"
      },
      "execution_count": 33,
      "outputs": [
        {
          "output_type": "execute_result",
          "data": {
            "text/plain": [
              "'AI applications are incredibly diverse and span numerous fields.  Here\\'s a breakdown categorized for clarity:\\n\\n**High-Profile & Widely Used Applications:**\\n\\n* **Search Engines:**  Powering advanced search capabilities like Google Search, understanding natural language queries and delivering relevant results.\\n* **Recommendation Systems:**  Used by platforms like Amazon, Netflix, and YouTube to suggest products, movies, and videos based on user preferences and behavior.\\n* **Virtual Assistants:**  Examples include Siri, Alexa, and Google Assistant, providing voice-activated assistance for tasks like scheduling, information retrieval, and controlling smart home devices.\\n* **Autonomous Vehicles:**  Self-driving cars and trucks utilize AI for navigation, object detection, and decision-making.  Companies like Waymo are at the forefront of this technology.\\n* **Generative AI:** Tools like ChatGPT, DALL-E 2, and Midjourney create text, images, videos, and other data in response to prompts, revolutionizing content creation and artistic expression.\\n* **Strategy Game AI:**  AI has achieved superhuman levels of play in games like chess and Go, demonstrating advanced strategic reasoning and planning capabilities.\\n\\n\\n**Industry-Specific Applications:**\\n\\n* **Healthcare:**  AI aids in medical diagnosis, drug discovery, personalized medicine, and robotic surgery.\\n* **Finance:**  Used for fraud detection, algorithmic trading, risk management, and customer service.\\n* **Manufacturing:**  AI optimizes production processes, predicts equipment failures, and improves quality control.\\n* **Retail:**  AI powers personalized recommendations, inventory management, and customer service chatbots.\\n* **Energy:**  AI optimizes energy grids, predicts energy consumption, and improves renewable energy generation.\\n* **Transportation:**  Beyond autonomous vehicles, AI manages traffic flow, optimizes logistics, and improves public transportation efficiency.\\n* **Military:**  Enhances command and control, improves intelligence analysis, assists in logistics, and supports the development of autonomous weapons systems (a highly debated topic).\\n* **Disaster Management:**  AI assists in evacuation planning, real-time monitoring of disaster situations, and resource allocation.\\n* **Law Enforcement:**  AI is used for facial recognition, crime prediction, and investigation support (with significant ethical considerations).\\n\\n\\n**Fundamental AI Application Types:**\\n\\n* **Classifiers:**  These AI systems categorize data into predefined classes based on patterns (e.g., spam detection, image recognition).\\n* **Controllers:**  These systems make decisions and take actions based on input (e.g., controlling robots, autonomous vehicle navigation).\\n\\n\\n**Important Note:** Many AI applications are integrated into everyday software and services without being explicitly labeled as \"AI.\"  The technology has become so pervasive that its presence is often invisible to the end-user.  This highlights the wide-ranging and often subtle impact of AI on modern life.'"
            ],
            "application/vnd.google.colaboratory.intrinsic+json": {
              "type": "string"
            }
          },
          "metadata": {},
          "execution_count": 33
        }
      ]
    },
    {
      "cell_type": "code",
      "source": [
        "store"
      ],
      "metadata": {
        "colab": {
          "base_uri": "https://localhost:8080/"
        },
        "id": "Jqt3ZH9wtMMe",
        "outputId": "b2803d15-4cc3-4b40-de62-339fa710f3a3"
      },
      "execution_count": 34,
      "outputs": [
        {
          "output_type": "execute_result",
          "data": {
            "text/plain": [
              "{'abc123': InMemoryChatMessageHistory(messages=[HumanMessage(content='applications of ai', additional_kwargs={}, response_metadata={}), AIMessage(content='AI applications are incredibly diverse and span numerous fields.  Here\\'s a breakdown categorized for clarity:\\n\\n**High-Profile & Widely Used Applications:**\\n\\n* **Search Engines:**  Powering advanced search capabilities like Google Search, understanding natural language queries and delivering relevant results.\\n* **Recommendation Systems:**  Used by platforms like Amazon, Netflix, and YouTube to suggest products, movies, and videos based on user preferences and behavior.\\n* **Virtual Assistants:**  Examples include Siri, Alexa, and Google Assistant, providing voice-activated assistance for tasks like scheduling, information retrieval, and controlling smart home devices.\\n* **Autonomous Vehicles:**  Self-driving cars and trucks utilize AI for navigation, object detection, and decision-making.  Companies like Waymo are at the forefront of this technology.\\n* **Generative AI:** Tools like ChatGPT, DALL-E 2, and Midjourney create text, images, videos, and other data in response to prompts, revolutionizing content creation and artistic expression.\\n* **Strategy Game AI:**  AI has achieved superhuman levels of play in games like chess and Go, demonstrating advanced strategic reasoning and planning capabilities.\\n\\n\\n**Industry-Specific Applications:**\\n\\n* **Healthcare:**  AI aids in medical diagnosis, drug discovery, personalized medicine, and robotic surgery.\\n* **Finance:**  Used for fraud detection, algorithmic trading, risk management, and customer service.\\n* **Manufacturing:**  AI optimizes production processes, predicts equipment failures, and improves quality control.\\n* **Retail:**  AI powers personalized recommendations, inventory management, and customer service chatbots.\\n* **Energy:**  AI optimizes energy grids, predicts energy consumption, and improves renewable energy generation.\\n* **Transportation:**  Beyond autonomous vehicles, AI manages traffic flow, optimizes logistics, and improves public transportation efficiency.\\n* **Military:**  Enhances command and control, improves intelligence analysis, assists in logistics, and supports the development of autonomous weapons systems (a highly debated topic).\\n* **Disaster Management:**  AI assists in evacuation planning, real-time monitoring of disaster situations, and resource allocation.\\n* **Law Enforcement:**  AI is used for facial recognition, crime prediction, and investigation support (with significant ethical considerations).\\n\\n\\n**Fundamental AI Application Types:**\\n\\n* **Classifiers:**  These AI systems categorize data into predefined classes based on patterns (e.g., spam detection, image recognition).\\n* **Controllers:**  These systems make decisions and take actions based on input (e.g., controlling robots, autonomous vehicle navigation).\\n\\n\\n**Important Note:** Many AI applications are integrated into everyday software and services without being explicitly labeled as \"AI.\"  The technology has become so pervasive that its presence is often invisible to the end-user.  This highlights the wide-ranging and often subtle impact of AI on modern life.', additional_kwargs={}, response_metadata={})])}"
            ]
          },
          "metadata": {},
          "execution_count": 34
        }
      ]
    },
    {
      "cell_type": "code",
      "source": [
        "conversational_rag_chain.invoke(\n",
        "    {\"input\": \"What are common ways of doing it?\"},\n",
        "    config={\"configurable\": {\"session_id\": \"abc123\"}},\n",
        ")[\"answer\"]\n",
        ""
      ],
      "metadata": {
        "colab": {
          "base_uri": "https://localhost:8080/",
          "height": 181
        },
        "id": "8k6ZWRqAtPFd",
        "outputId": "be571e01-5121-4fbd-b1f3-0bdc65c8368e"
      },
      "execution_count": 35,
      "outputs": [
        {
          "output_type": "execute_result",
          "data": {
            "text/plain": [
              "'The \"doing it\" refers to building and implementing AI applications.  There\\'s no single \"way,\" but rather a collection of techniques and approaches depending on the specific application and goals.  Here are some common methods:\\n\\n**1. Data Acquisition and Preparation:**\\n\\n* **Data Collection:** Gathering relevant data is the crucial first step. This might involve scraping web data, using APIs, collecting sensor data, or utilizing existing datasets. The quality and quantity of data directly impact the AI model\\'s performance.\\n* **Data Cleaning:**  Raw data is rarely perfect. Cleaning involves handling missing values, removing outliers, and correcting inconsistencies.\\n* **Data Preprocessing:**  This step transforms the data into a format suitable for the chosen AI model. Techniques include normalization, standardization, feature scaling, and encoding categorical variables.\\n* **Data Augmentation:**  Increasing the size of the dataset by creating modified versions of existing data points (e.g., rotating images, adding noise to audio). This is particularly useful when dealing with limited data.\\n* **Feature Engineering:**  Creating new features from existing ones to improve the model\\'s performance. This often requires domain expertise and creativity.\\n\\n\\n**2. Model Selection and Training:**\\n\\n* **Choosing an Algorithm:**  The selection depends on the type of problem (classification, regression, clustering, etc.) and the nature of the data.  Common algorithms include:\\n    * **Supervised Learning:** Linear Regression, Logistic Regression, Support Vector Machines (SVMs), Decision Trees, Random Forests, Neural Networks (including deep learning models like CNNs and RNNs).\\n    * **Unsupervised Learning:** K-means clustering, Principal Component Analysis (PCA).\\n    * **Reinforcement Learning:** Q-learning, Deep Q-Networks (DQNs).\\n* **Training the Model:**  This involves feeding the prepared data to the chosen algorithm, allowing it to learn patterns and relationships.  This process requires computational resources and often involves hyperparameter tuning (optimizing the algorithm\\'s settings).\\n* **Model Evaluation:**  Assessing the model\\'s performance using metrics like accuracy, precision, recall, F1-score, or AUC (area under the curve).  This helps identify areas for improvement.\\n\\n\\n**3. Deployment and Monitoring:**\\n\\n* **Deployment:**  Making the trained model accessible for use. This might involve integrating it into a software application, deploying it to a cloud platform, or embedding it in a hardware device.\\n* **Monitoring:**  Continuously tracking the model\\'s performance in a real-world setting.  This is crucial for identifying issues like concept drift (changes in the data distribution over time) and ensuring the model remains accurate and effective.  Retraining or updating the model may be necessary.\\n\\n\\n**4. Tools and Technologies:**\\n\\n* **Programming Languages:** Python is the most popular language for AI development due to its rich ecosystem of libraries (NumPy, Pandas, Scikit-learn, TensorFlow, PyTorch).\\n* **Cloud Platforms:**  Services like AWS, Google Cloud, and Azure provide infrastructure and tools for building, training, and deploying AI models.\\n* **Machine Learning Libraries:**  These libraries provide pre-built algorithms and tools for simplifying the development process.\\n* **Deep Learning Frameworks:**  TensorFlow and PyTorch are dominant frameworks for building and training deep learning models.\\n\\n\\n**Common Approaches by AI Type:**\\n\\n* **Rule-based systems:** Defining explicit rules to handle specific situations.  Simpler but less adaptable.\\n* **Machine learning:**  Learning patterns from data.  More adaptable but requires significant data.\\n* **Deep learning:**  Using deep neural networks for complex tasks.  Highly powerful but computationally expensive and requires massive datasets.\\n\\n\\nThe specific \"way\" to build an AI application will be a combination of these steps and technologies, tailored to the unique challenges and requirements of the project.  Iterative development, experimentation, and careful evaluation are key to success.'"
            ],
            "application/vnd.google.colaboratory.intrinsic+json": {
              "type": "string"
            }
          },
          "metadata": {},
          "execution_count": 35
        }
      ]
    },
    {
      "cell_type": "code",
      "source": [
        "for message in store[\"abc123\"].messages:\n",
        "    if isinstance(message, AIMessage):\n",
        "        prefix = \"AI\"\n",
        "    else:\n",
        "        prefix = \"User\"\n",
        "\n",
        "    print(f\"{prefix}: {message.content}\\n\")"
      ],
      "metadata": {
        "colab": {
          "base_uri": "https://localhost:8080/"
        },
        "id": "ZWTTQv2ttSP8",
        "outputId": "010f19e5-b259-41c9-81c0-bb4172b44d7e"
      },
      "execution_count": 36,
      "outputs": [
        {
          "output_type": "stream",
          "name": "stdout",
          "text": [
            "User: applications of ai\n",
            "\n",
            "AI: AI applications are incredibly diverse and span numerous fields.  Here's a breakdown categorized for clarity:\n",
            "\n",
            "**High-Profile & Widely Used Applications:**\n",
            "\n",
            "* **Search Engines:**  Powering advanced search capabilities like Google Search, understanding natural language queries and delivering relevant results.\n",
            "* **Recommendation Systems:**  Used by platforms like Amazon, Netflix, and YouTube to suggest products, movies, and videos based on user preferences and behavior.\n",
            "* **Virtual Assistants:**  Examples include Siri, Alexa, and Google Assistant, providing voice-activated assistance for tasks like scheduling, information retrieval, and controlling smart home devices.\n",
            "* **Autonomous Vehicles:**  Self-driving cars and trucks utilize AI for navigation, object detection, and decision-making.  Companies like Waymo are at the forefront of this technology.\n",
            "* **Generative AI:** Tools like ChatGPT, DALL-E 2, and Midjourney create text, images, videos, and other data in response to prompts, revolutionizing content creation and artistic expression.\n",
            "* **Strategy Game AI:**  AI has achieved superhuman levels of play in games like chess and Go, demonstrating advanced strategic reasoning and planning capabilities.\n",
            "\n",
            "\n",
            "**Industry-Specific Applications:**\n",
            "\n",
            "* **Healthcare:**  AI aids in medical diagnosis, drug discovery, personalized medicine, and robotic surgery.\n",
            "* **Finance:**  Used for fraud detection, algorithmic trading, risk management, and customer service.\n",
            "* **Manufacturing:**  AI optimizes production processes, predicts equipment failures, and improves quality control.\n",
            "* **Retail:**  AI powers personalized recommendations, inventory management, and customer service chatbots.\n",
            "* **Energy:**  AI optimizes energy grids, predicts energy consumption, and improves renewable energy generation.\n",
            "* **Transportation:**  Beyond autonomous vehicles, AI manages traffic flow, optimizes logistics, and improves public transportation efficiency.\n",
            "* **Military:**  Enhances command and control, improves intelligence analysis, assists in logistics, and supports the development of autonomous weapons systems (a highly debated topic).\n",
            "* **Disaster Management:**  AI assists in evacuation planning, real-time monitoring of disaster situations, and resource allocation.\n",
            "* **Law Enforcement:**  AI is used for facial recognition, crime prediction, and investigation support (with significant ethical considerations).\n",
            "\n",
            "\n",
            "**Fundamental AI Application Types:**\n",
            "\n",
            "* **Classifiers:**  These AI systems categorize data into predefined classes based on patterns (e.g., spam detection, image recognition).\n",
            "* **Controllers:**  These systems make decisions and take actions based on input (e.g., controlling robots, autonomous vehicle navigation).\n",
            "\n",
            "\n",
            "**Important Note:** Many AI applications are integrated into everyday software and services without being explicitly labeled as \"AI.\"  The technology has become so pervasive that its presence is often invisible to the end-user.  This highlights the wide-ranging and often subtle impact of AI on modern life.\n",
            "\n",
            "User: What are common ways of doing it?\n",
            "\n",
            "AI: The \"doing it\" refers to building and implementing AI applications.  There's no single \"way,\" but rather a collection of techniques and approaches depending on the specific application and goals.  Here are some common methods:\n",
            "\n",
            "**1. Data Acquisition and Preparation:**\n",
            "\n",
            "* **Data Collection:** Gathering relevant data is the crucial first step. This might involve scraping web data, using APIs, collecting sensor data, or utilizing existing datasets. The quality and quantity of data directly impact the AI model's performance.\n",
            "* **Data Cleaning:**  Raw data is rarely perfect. Cleaning involves handling missing values, removing outliers, and correcting inconsistencies.\n",
            "* **Data Preprocessing:**  This step transforms the data into a format suitable for the chosen AI model. Techniques include normalization, standardization, feature scaling, and encoding categorical variables.\n",
            "* **Data Augmentation:**  Increasing the size of the dataset by creating modified versions of existing data points (e.g., rotating images, adding noise to audio). This is particularly useful when dealing with limited data.\n",
            "* **Feature Engineering:**  Creating new features from existing ones to improve the model's performance. This often requires domain expertise and creativity.\n",
            "\n",
            "\n",
            "**2. Model Selection and Training:**\n",
            "\n",
            "* **Choosing an Algorithm:**  The selection depends on the type of problem (classification, regression, clustering, etc.) and the nature of the data.  Common algorithms include:\n",
            "    * **Supervised Learning:** Linear Regression, Logistic Regression, Support Vector Machines (SVMs), Decision Trees, Random Forests, Neural Networks (including deep learning models like CNNs and RNNs).\n",
            "    * **Unsupervised Learning:** K-means clustering, Principal Component Analysis (PCA).\n",
            "    * **Reinforcement Learning:** Q-learning, Deep Q-Networks (DQNs).\n",
            "* **Training the Model:**  This involves feeding the prepared data to the chosen algorithm, allowing it to learn patterns and relationships.  This process requires computational resources and often involves hyperparameter tuning (optimizing the algorithm's settings).\n",
            "* **Model Evaluation:**  Assessing the model's performance using metrics like accuracy, precision, recall, F1-score, or AUC (area under the curve).  This helps identify areas for improvement.\n",
            "\n",
            "\n",
            "**3. Deployment and Monitoring:**\n",
            "\n",
            "* **Deployment:**  Making the trained model accessible for use. This might involve integrating it into a software application, deploying it to a cloud platform, or embedding it in a hardware device.\n",
            "* **Monitoring:**  Continuously tracking the model's performance in a real-world setting.  This is crucial for identifying issues like concept drift (changes in the data distribution over time) and ensuring the model remains accurate and effective.  Retraining or updating the model may be necessary.\n",
            "\n",
            "\n",
            "**4. Tools and Technologies:**\n",
            "\n",
            "* **Programming Languages:** Python is the most popular language for AI development due to its rich ecosystem of libraries (NumPy, Pandas, Scikit-learn, TensorFlow, PyTorch).\n",
            "* **Cloud Platforms:**  Services like AWS, Google Cloud, and Azure provide infrastructure and tools for building, training, and deploying AI models.\n",
            "* **Machine Learning Libraries:**  These libraries provide pre-built algorithms and tools for simplifying the development process.\n",
            "* **Deep Learning Frameworks:**  TensorFlow and PyTorch are dominant frameworks for building and training deep learning models.\n",
            "\n",
            "\n",
            "**Common Approaches by AI Type:**\n",
            "\n",
            "* **Rule-based systems:** Defining explicit rules to handle specific situations.  Simpler but less adaptable.\n",
            "* **Machine learning:**  Learning patterns from data.  More adaptable but requires significant data.\n",
            "* **Deep learning:**  Using deep neural networks for complex tasks.  Highly powerful but computationally expensive and requires massive datasets.\n",
            "\n",
            "\n",
            "The specific \"way\" to build an AI application will be a combination of these steps and technologies, tailored to the unique challenges and requirements of the project.  Iterative development, experimentation, and careful evaluation are key to success.\n",
            "\n"
          ]
        }
      ]
    }
  ]
}